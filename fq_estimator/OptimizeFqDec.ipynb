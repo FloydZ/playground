{
 "cells": [
  {
   "cell_type": "markdown",
   "id": "6179e975",
   "metadata": {},
   "source": [
    "### Setup"
   ]
  },
  {
   "cell_type": "code",
   "execution_count": 1,
   "id": "82507680-f74c-4572-a3b1-d1a9ecad3ff4",
   "metadata": {
    "tags": []
   },
   "outputs": [],
   "source": [
    "import collections\n",
    "import random\n",
    "from random import  uniform as ru\n",
    "from math import *\n",
    "import scipy.optimize as opt\n",
    "import math \n",
    "import matplotlib.pyplot as plt\n",
    "from scipy.optimize import fsolve\n",
    "from scipy.optimize import minimize\n",
    "from scipy.special import binom\n",
    "from copy import copy\n",
    "import numpy as np\n",
    "import warnings\n",
    "warnings.filterwarnings('ignore',category=RuntimeWarning)\n",
    "\n",
    "def log2(x):\n",
    "    return log(x,2)\n",
    "\n",
    "def Hi(v):\n",
    "    if v==1:\n",
    "        return 0.5\n",
    "    return fsolve(lambda x:v -(-x*log2(x)-(1-x)*log2(1-x)),0.0000001)[0]\n",
    "\n",
    "def Hqi(v,q):\n",
    "    if v==1:\n",
    "        return 1-1/q\n",
    "    return fsolve(lambda x:v -(x*log(q-1,q)-x*log(x,q)-(1-x)*log(1-x,q)),0.0000001)[0]\n",
    "\n",
    "def H(c):\n",
    "    \"\"\"\n",
    "    Entropy function\n",
    "    \"\"\"\n",
    "    if c == 0. or c == 1.:\n",
    "        return 0.\n",
    "    \n",
    "    if c < 0. or c > 1.:\n",
    "        return -1000\n",
    "    \n",
    "    return -(c * log2(c) + (1 - c) * log2(1 - c))\n",
    "\n",
    "def binomH(n,k):\n",
    "    \"\"\"\n",
    "    binomial coefficient\n",
    "    \"\"\"\n",
    "    # if k/n not in ZZ:\n",
    "    #     return -100\n",
    "    if(n<=0):\n",
    "        return 0.\n",
    "    return n * H(k/n)\n",
    "\n",
    "def multiH(n,c):\n",
    "    \"\"\"\n",
    "    multinomial coefficient\n",
    "    \"\"\"\n",
    "    if sum(c)>n:\n",
    "        return 0\n",
    "    tot=0\n",
    "    val=n\n",
    "    for i in c:\n",
    "        tot+=binomH(n,i)\n",
    "        n-=i\n",
    "    return tot\n",
    "\n",
    "def wrap(f,g) :\n",
    "    def inner(x):\n",
    "        return f(g(*x))\n",
    "    return inner\n",
    "\n",
    "def r(x,y,z):\n",
    "    return [(ru(x,y)) for i in range(z)]\n",
    "\n",
    "def check_constraints(constraints, solution) : \n",
    "    return [ (constraint['type'], constraint['fun'](solution)) for constraint in constraints ]\n",
    "\n",
    "def validity(mycons, result):\n",
    "    const= check_constraints(mycons, result)\n",
    "    for i in const:\n",
    "        if i[0]==\"eq\":\n",
    "            if abs(i[1])>1e-7:\n",
    "                return False\n",
    "        elif i[1]<-1e-7:\n",
    "            return False\n",
    "    return True\n",
    "\n",
    "def reps(ell,p_target,p_addends):\n",
    "    return binomH(p_target, p_target/2)+binomH(ell-p_target,p_addends-p_target/2)\n",
    "\n",
    "# those are set in the loop later, definition here just took make them available\n",
    "k = lambda x : 0\n",
    "w = lambda x : 0"
   ]
  },
  {
   "cell_type": "markdown",
   "id": "7a2e54a8-177b-43b6-95bd-17d907177ce1",
   "metadata": {
    "jp-MarkdownHeadingCollapsed": true
   },
   "source": [
    "### q = 3, MMT two levels, variable number of 1's and 2's in base list"
   ]
  },
  {
   "cell_type": "code",
   "execution_count": 17,
   "id": "a9d36813-3a7a-400c-aa2e-0e95ccbafea6",
   "metadata": {
    "tags": []
   },
   "outputs": [],
   "source": [
    "set_vars = collections.namedtuple('Our', 'p p2 ell')\n",
    "def our(f) : return wrap(f, set_vars)\n",
    "k=0.5\n",
    "w=0.1\n",
    "\n",
    "perms = lambda x: binomH(1., w) - binomH(k+x.ell, x.p) - binomH(1-k-x.ell, w-x.p)\n",
    "\n",
    "p1 = lambda x: x.p/4+x.p/2-2*x.p2\n",
    "r1 = lambda x: binomH(x.p/2,x.p/4) + binomH(x.p/2,x.p2) + binomH(x.p/2-x.p2,x.p2)\n",
    "L0 = lambda x: binomH((k+x.ell)/2,p1(x)/2)+ binomH((k+x.ell-p1(x))/2,x.p2/2)\n",
    "L1 = lambda x: 2*L0(x)-r1(x)\n",
    "\n",
    "T2 = lambda x: 2*L1(x) - (log2(3)*x.ell-r1(x))\n",
    "\n",
    "constraints = [\n",
    "    #{ 'type' : 'eq',   'fun' : our(lambda x : x.p2 - x.p/4)},    \n",
    "    { 'type' : 'ineq',   'fun' : our(lambda x : k+ x.ell - x.p)},\n",
    "    { 'type' : 'ineq',   'fun' : our(lambda x : x.p/2-2*x.p2)},\n",
    "    { 'type' : 'ineq',   'fun' : our(lambda x : k+ x.ell - x.p)},\n",
    "    { 'type' : 'ineq',   'fun' : our(lambda x : 1-k-x.ell- (w-x.p))},\n",
    "    { 'type' : 'ineq',   'fun' : our(lambda x : 1-k-x.ell)},\n",
    "    { 'type' : 'ineq',   'fun' : our(lambda x : w-x.p)}\n",
    "]\n",
    "\n",
    "def memory(x):\n",
    "    return max(L0(x),L1(x))\n",
    "\n",
    "def time(x):\n",
    "    x = set_vars(*x)  \n",
    "    if x.p/2-2*x.p2<0:\n",
    "        return 100\n",
    "    return perms(x) + max(L0(x),L1(x),T2(x))\n",
    "\n",
    "def optimize(verb=False):\n",
    "    \n",
    "    start = r(0,0.008,3)\n",
    "    bounds = [(0, 1)]*3\n",
    "    \n",
    "    result = opt.minimize(time, start, \n",
    "            bounds= bounds, tol=1e-10, \n",
    "            constraints=constraints, options={'maxiter':1000})\n",
    "    astuple = set_vars(*result.x) \n",
    "    x = set_vars(*result.x)    \n",
    "    return result\n",
    "\n",
    "def iterate_optimizer(iterations):\n",
    "    mini=100\n",
    "    for i in range(iterations):\n",
    "        x=optimize()\n",
    "        if x.success and x.fun<mini:\n",
    "            mini=x.fun\n",
    "            result = x\n",
    "    return result"
   ]
  },
  {
   "cell_type": "code",
   "execution_count": 18,
   "id": "860ff4dc-a6ae-4065-8f05-a58793b864f2",
   "metadata": {
    "tags": []
   },
   "outputs": [],
   "source": [
    "x=set_vars( 1.141e-02,  2.774e-03,  3.269e-02)"
   ]
  },
  {
   "cell_type": "code",
   "execution_count": 19,
   "id": "e386a463-ad71-4a78-9d92-d08b7a182540",
   "metadata": {
    "tags": []
   },
   "outputs": [
    {
     "data": {
      "text/plain": [
       "(0.012290149776731998, 0.01141)"
      ]
     },
     "execution_count": 19,
     "metadata": {},
     "output_type": "execute_result"
    }
   ],
   "source": [
    "r1(x),x.p"
   ]
  },
  {
   "cell_type": "code",
   "execution_count": 20,
   "id": "47b5ea31-caa5-415b-a1f5-fe03d80ca2e0",
   "metadata": {
    "tags": []
   },
   "outputs": [
    {
     "data": {
      "text/plain": [
       "(0.0028525, 0.002774)"
      ]
     },
     "execution_count": 20,
     "metadata": {},
     "output_type": "execute_result"
    }
   ],
   "source": [
    "x.p/4,x.p2"
   ]
  },
  {
   "cell_type": "code",
   "execution_count": 21,
   "id": "3500dd90-7ab3-4afb-8d12-2f2eb53b25e8",
   "metadata": {
    "tags": []
   },
   "outputs": [
    {
     "data": {
      "text/plain": [
       "0.10158068384848343"
      ]
     },
     "execution_count": 21,
     "metadata": {},
     "output_type": "execute_result"
    }
   ],
   "source": [
    "time(x)"
   ]
  },
  {
   "cell_type": "code",
   "execution_count": 22,
   "id": "c30c91f6-e48d-4a91-874f-efec1cb3e7d9",
   "metadata": {
    "tags": []
   },
   "outputs": [
    {
     "data": {
      "text/plain": [
       " message: Optimization terminated successfully\n",
       " success: True\n",
       "  status: 0\n",
       "     fun: 0.10157673650398087\n",
       "       x: [ 1.121e-02  2.738e-03  3.216e-02]\n",
       "     nit: 32\n",
       "     jac: [ 4.578e+00 -8.619e-02 -1.177e+00]\n",
       "    nfev: 195\n",
       "    njev: 32"
      ]
     },
     "execution_count": 22,
     "metadata": {},
     "output_type": "execute_result"
    }
   ],
   "source": [
    "iterate_optimizer(100)"
   ]
  },
  {
   "cell_type": "code",
   "execution_count": 23,
   "id": "827d5c9e-7bee-40b3-b71a-3a19e861d0b3",
   "metadata": {
    "tags": []
   },
   "outputs": [],
   "source": [
    "k=0.5\n",
    "w=0.1"
   ]
  },
  {
   "cell_type": "markdown",
   "id": "5cb95723-c779-4f83-b848-2e90aa743aa7",
   "metadata": {
    "jp-MarkdownHeadingCollapsed": true
   },
   "source": [
    "### MMT"
   ]
  },
  {
   "cell_type": "code",
   "execution_count": 24,
   "id": "3f346f7e-9188-4089-a483-d81385dc0351",
   "metadata": {
    "tags": []
   },
   "outputs": [],
   "source": [
    "set_vars = collections.namedtuple('Our', 'p ell')\n",
    "def our(f) : return wrap(f, set_vars)\n",
    "k=0.5\n",
    "w=0.1\n",
    "\n",
    "perms = lambda x: binomH(1., w) - binomH(k+x.ell, x.p) - binomH(1-k-x.ell, w-x.p)\n",
    "\n",
    "p1 = lambda x: x.p/2\n",
    "r1 = lambda x: x.p\n",
    "L0 = lambda x: binomH((k+x.ell)/2,p1(x)/2)+p1(x)/2\n",
    "L1 = lambda x: 2*L0(x)-r1(x)\n",
    "\n",
    "T2 = lambda x: 2*L1(x) - (log2(3)*x.ell-r1(x))\n",
    "\n",
    "constraints = [\n",
    "    \n",
    "    { 'type' : 'ineq',   'fun' : our(lambda x : k+ x.ell - x.p)},\n",
    "    { 'type' : 'ineq',   'fun' : our(lambda x : 1- k- x.ell)},\n",
    "    { 'type' : 'ineq',   'fun' : our(lambda x : w-x.p)},\n",
    "    { 'type' : 'ineq',   'fun' : our(lambda x : 1-k-x.ell- (w-x.p))}\n",
    "]\n",
    "\n",
    "def memory(x):\n",
    "    x = set_vars(*x)    \n",
    "    return max(L0(x),L1(x))\n",
    "\n",
    "def time(x):\n",
    "    x = set_vars(*x)    \n",
    "\n",
    "    return perms(x) + max(L0(x),L1(x),T2(x))\n",
    "\n",
    "def optimize(verb=False):\n",
    "    \n",
    "    start = r(0,0.008,2)\n",
    "    bounds = [(0, 1)]*2\n",
    "    \n",
    "    result = opt.minimize(time, start, \n",
    "            bounds= bounds, tol=1e-10, \n",
    "            constraints=constraints, options={'maxiter':1000})\n",
    "    astuple = set_vars(*result.x) \n",
    "    x = set_vars(*result.x)    \n",
    "    return result\n",
    "    \n",
    "def iterate_optimizer(iterations):\n",
    "    mini=100\n",
    "    for i in range(iterations):\n",
    "        x=optimize()\n",
    "        if x.success and x.fun<mini:\n",
    "            mini=x.fun\n",
    "            result = x\n",
    "    return result"
   ]
  },
  {
   "cell_type": "code",
   "execution_count": 25,
   "id": "5a4342e3-543c-476b-ae5a-af55127c4551",
   "metadata": {
    "tags": []
   },
   "outputs": [
    {
     "data": {
      "text/plain": [
       " message: Optimization terminated successfully\n",
       " success: True\n",
       "  status: 0\n",
       "     fun: 0.1017567899164444\n",
       "       x: [ 1.073e-02  3.068e-02]\n",
       "     nit: 43\n",
       "     jac: [ 3.075e+00  2.896e-01]\n",
       "    nfev: 233\n",
       "    njev: 43"
      ]
     },
     "execution_count": 25,
     "metadata": {},
     "output_type": "execute_result"
    }
   ],
   "source": [
    "iterate_optimizer(100)"
   ]
  },
  {
   "cell_type": "markdown",
   "id": "c8fcb707-d3da-47a1-a125-44e03216db1d",
   "metadata": {
    "jp-MarkdownHeadingCollapsed": true
   },
   "source": [
    "### Stern/Dumer"
   ]
  },
  {
   "cell_type": "code",
   "execution_count": 26,
   "id": "15cae141-8a59-4154-94ac-6706f3b9661c",
   "metadata": {},
   "outputs": [
    {
     "name": "stderr",
     "output_type": "stream",
     "text": [
      "C:\\Users\\freja\\AppData\\Local\\Temp\\ipykernel_2832\\1409435978.py:26: DeprecationWarning: Conversion of an array with ndim > 0 to a scalar is deprecated, and will error in future. Ensure you extract a single element from your array before performing this operation. (Deprecated NumPy 1.25.)\n",
      "  return fsolve(lambda x:v -(x*log(q-1,q)-x*log(x,q)-(1-x)*log(1-x,q)),0.0000001)[0]\n"
     ]
    }
   ],
   "source": [
    "set_vars = collections.namedtuple('Our', 'p ell')\n",
    "def our(f) : return wrap(f, set_vars)\n",
    "\n",
    "k = 0.5\n",
    "q = 2\n",
    "w = Hqi(1-k,q)\n",
    "\n",
    "perms = lambda x: binomH(1., w) - binomH(k+x.ell, x.p) - binomH(1-k-x.ell, w-x.p)\n",
    "\n",
    "L0 = lambda x: binomH((k+x.ell)/2,x.p/2)+ (x.p/2)*log2(q-1)\n",
    "L1 = lambda x: 2*L0(x) - x.ell*log2(q)\n",
    "\n",
    "constraints = [\n",
    "    { 'type' : 'ineq',   'fun' : our(lambda x : k + x.ell - x.p)},\n",
    "    { 'type' : 'ineq',   'fun' : our(lambda x : 1-k-x.ell- (w-x.p))},\n",
    "    { 'type' : 'ineq',   'fun' : our(lambda x : 1-k-x.ell)},\n",
    "    { 'type' : 'ineq',   'fun' : our(lambda x : w-x.p)},\n",
    "]\n",
    "\n",
    "def memory(x):\n",
    "    return max(L0(x),L1(x))\n",
    "\n",
    "def time(x):\n",
    "    x = set_vars(*x)  \n",
    "    return perms(x) + max(L0(x),L1(x))\n",
    "\n",
    "def optimize(verb=False):\n",
    "    variables=2\n",
    "    start = r(0,0.008,variables)\n",
    "    bounds = [(0, 1)]*variables\n",
    "    \n",
    "    result = opt.minimize(time, start, \n",
    "            bounds= bounds, tol=1e-10, \n",
    "            constraints=constraints, options={'maxiter':1000})\n",
    "    astuple = set_vars(*result.x) \n",
    "    x = set_vars(*result.x)    \n",
    "    return result\n",
    "\n",
    "def iterate_optimizer(iterations):\n",
    "    mini=100000\n",
    "    for i in range(iterations):\n",
    "        x=optimize()\n",
    "        if x.success and x.fun<mini:\n",
    "            mini=x.fun\n",
    "            result = x\n",
    "    return result"
   ]
  },
  {
   "cell_type": "code",
   "execution_count": 27,
   "id": "a89fe326-8a6c-4cad-aa4b-149082a999ed",
   "metadata": {},
   "outputs": [
    {
     "data": {
      "text/plain": [
       "0.1151516650648495"
      ]
     },
     "execution_count": 27,
     "metadata": {},
     "output_type": "execute_result"
    }
   ],
   "source": [
    "res=iterate_optimizer(100)\n",
    "x=set_vars( *res.x)\n",
    "res.fun"
   ]
  },
  {
   "cell_type": "code",
   "execution_count": 28,
   "id": "5e8fadd9-6490-4125-87aa-5f2bbf984a6b",
   "metadata": {},
   "outputs": [
    {
     "name": "stdout",
     "output_type": "stream",
     "text": [
      "2\n",
      "2\n"
     ]
    }
   ],
   "source": [
    "t = 3\n",
    "\n",
    "def addt(x):\n",
    "    return x+t\n",
    "    \n",
    "def hej(x):\n",
    "    global t\n",
    "    t = x\n",
    "    print(addt(0))\n",
    "\n",
    "hej(2)\n",
    "print(t)\n"
   ]
  },
  {
   "cell_type": "code",
   "execution_count": 29,
   "id": "b17c12ae-a181-48ff-a904-aa6fd7922e24",
   "metadata": {},
   "outputs": [
    {
     "name": "stdout",
     "output_type": "stream",
     "text": [
      "0.010418527502531597 p\n",
      "0.037071735295719124 ell\n"
     ]
    }
   ],
   "source": [
    "print(x.p,\"p\")\n",
    "print(x.ell,\"ell\")"
   ]
  },
  {
   "cell_type": "code",
   "execution_count": 30,
   "id": "2acb18f2-e585-4095-87de-409f5305208e",
   "metadata": {},
   "outputs": [
    {
     "name": "stderr",
     "output_type": "stream",
     "text": [
      "C:\\Users\\freja\\AppData\\Local\\Temp\\ipykernel_2832\\1409435978.py:26: DeprecationWarning: Conversion of an array with ndim > 0 to a scalar is deprecated, and will error in future. Ensure you extract a single element from your array before performing this operation. (Deprecated NumPy 1.25.)\n",
      "  return fsolve(lambda x:v -(x*log(q-1,q)-x*log(x,q)-(1-x)*log(1-x,q)),0.0000001)[0]\n"
     ]
    },
    {
     "name": "stdout",
     "output_type": "stream",
     "text": [
      "[0.1, 0.5, 0.9] [0.057281455298317796, 0.11515166505467905, 0.040469956242720706]\n",
      "[0.1, 0.3666666666666667] [0.057281455298317796, 0.11364069149659542]\n"
     ]
    },
    {
     "ename": "IndexError",
     "evalue": "list index out of range",
     "output_type": "error",
     "traceback": [
      "\u001b[1;31m---------------------------------------------------------------------------\u001b[0m",
      "\u001b[1;31mIndexError\u001b[0m                                Traceback (most recent call last)",
      "Cell \u001b[1;32mIn[30], line 10\u001b[0m\n\u001b[0;32m      8\u001b[0m \u001b[38;5;28mprint\u001b[39m(ks,times)\n\u001b[0;32m      9\u001b[0m \u001b[38;5;28;01mwhile\u001b[39;00m \u001b[38;5;28mmax\u001b[39m(times)\u001b[38;5;241m-\u001b[39m\u001b[38;5;28mmin\u001b[39m(times) \u001b[38;5;241m>\u001b[39m \u001b[38;5;241m0.0004\u001b[39m:\n\u001b[1;32m---> 10\u001b[0m     \u001b[38;5;28;01mif\u001b[39;00m times[\u001b[38;5;241m0\u001b[39m] \u001b[38;5;241m>\u001b[39m \u001b[43mtimes\u001b[49m\u001b[43m \u001b[49m\u001b[43m[\u001b[49m\u001b[38;5;241;43m2\u001b[39;49m\u001b[43m]\u001b[49m:\n\u001b[0;32m     11\u001b[0m         k  \u001b[38;5;241m=\u001b[39m ks[\u001b[38;5;241m0\u001b[39m] \u001b[38;5;241m+\u001b[39m \u001b[38;5;241m2\u001b[39m\u001b[38;5;241m/\u001b[39m\u001b[38;5;241m3\u001b[39m\u001b[38;5;241m*\u001b[39m(ks[\u001b[38;5;241m1\u001b[39m]\u001b[38;5;241m-\u001b[39mks[\u001b[38;5;241m0\u001b[39m])\n\u001b[0;32m     12\u001b[0m         ks \u001b[38;5;241m=\u001b[39m [ ks[\u001b[38;5;241m0\u001b[39m] , k]\n",
      "\u001b[1;31mIndexError\u001b[0m: list index out of range"
     ]
    }
   ],
   "source": [
    "for q in [2,3,4,5,7,9,11,13,17,19]:\n",
    "    ks = [0.1,0.5,0.9]\n",
    "    times = []\n",
    "    for k in ks:\n",
    "        w = Hqi(1-k,q)\n",
    "        res=iterate_optimizer(100)\n",
    "        times.append(res.fun)\n",
    "    print(ks,times)\n",
    "    while max(times)-min(times) > 0.0004:\n",
    "        if times[0] > times [2]:\n",
    "            k  = ks[0] + 2/3*(ks[1]-ks[0])\n",
    "            ks = [ ks[0] , k]\n",
    "            w  = Hqi(1-k,q)\n",
    "            res=iterate_optimizer(100)\n",
    "            times = [times[0], res.fun]\n",
    "        else:\n",
    "            k  = ks[1] - 2/3*(ks[1]-ks[0])\n",
    "            ks = [ k , ks[1]]\n",
    "            w  = Hqi(1-k,q)\n",
    "            res=iterate_optimizer(100)\n",
    "            times = [res.fun, times[1]]\n",
    "\n",
    "        print(ks,times)\n",
    "    print(q, (ks[1]+ks[0])/2)\n",
    "            "
   ]
  },
  {
   "cell_type": "code",
   "execution_count": null,
   "id": "0493b212-654c-4969-b8c3-240513e64e9e",
   "metadata": {},
   "outputs": [],
   "source": [
    "Sterns = []\n",
    "ks = np.arange(0.05,1,0.05)\n",
    "for k in ks:\n",
    "    w = Hqi(1-k,q)\n",
    "    res=iterate_optimizer(100)\n",
    "    x=set_vars( *res.x)\n",
    "    Sterns.append(res.fun)"
   ]
  },
  {
   "cell_type": "code",
   "execution_count": null,
   "id": "6ac6682f-1bc7-4441-a48b-6f2ad9f5b93e",
   "metadata": {},
   "outputs": [],
   "source": [
    "k = 0.5\n",
    "Sterns_w = []\n",
    "wmax = 2 * Hqi(1-k,q)\n",
    "ws = [wmax/20*i for i in range(1,20)]\n",
    "for w in ws:\n",
    "    res=iterate_optimizer(100)\n",
    "    x=set_vars( *res.x)\n",
    "    Sterns_w.append(res.fun)"
   ]
  },
  {
   "cell_type": "code",
   "execution_count": null,
   "id": "edd73097-4c23-4f04-b979-87bc576a818a",
   "metadata": {},
   "outputs": [],
   "source": [
    "k = 0.5\n",
    "qs = range(50,1000,50)\n",
    "Sterns_q = []\n",
    "for q in qs:\n",
    "    w = Hqi(1-k,q)\n",
    "    res=iterate_optimizer(100)\n",
    "    x=set_vars( *res.x)\n",
    "    Sterns_q.append(res.fun)"
   ]
  },
  {
   "cell_type": "markdown",
   "id": "9e03f417-06de-4f77-a336-d27d5d6cc76a",
   "metadata": {
    "jp-MarkdownHeadingCollapsed": true
   },
   "source": [
    "### Paolos meet in the middle"
   ]
  },
  {
   "cell_type": "code",
   "execution_count": null,
   "id": "1d7f2611-7cab-4777-8dff-9f4b060d8f71",
   "metadata": {},
   "outputs": [
    {
     "name": "stderr",
     "output_type": "stream",
     "text": [
      "C:\\Users\\freja\\AppData\\Local\\Temp\\ipykernel_8076\\1409435978.py:26: DeprecationWarning: Conversion of an array with ndim > 0 to a scalar is deprecated, and will error in future. Ensure you extract a single element from your array before performing this operation. (Deprecated NumPy 1.25.)\n",
      "  return fsolve(lambda x:v -(x*log(q-1,q)-x*log(x,q)-(1-x)*log(1-x,q)),0.0000001)[0]\n"
     ]
    }
   ],
   "source": [
    "set_vars = collections.namedtuple('Our', 'p d ell i')\n",
    "def our(f) : return wrap(f, set_vars)\n",
    "    \n",
    "k = 0.5\n",
    "q = 50\n",
    "w = Hqi(1-k,q)\n",
    "\n",
    "perms = lambda x: binomH(1., w) - binomH(k+x.ell, x.p) - binomH(1-k-x.ell, w-x.p)\n",
    "\n",
    "p1 = lambda x: x.p/2+x.d\n",
    "r1 = lambda x: binomH(x.p-2*x.i,x.p/2 - x.i) + binomH(x.p,2*x.i) + 2*x.i*log2(q-2) + binomH(k+x.ell-x.p,x.d-x.i) + (x.d-x.i)*log2(q-1)\n",
    "L0 = lambda x: binomH(k+x.ell,p1(x))\n",
    "T1 = lambda x: 2*L0(x) - (x.ell-p1(x))*log2(q)\n",
    "L1 = lambda x: binomH(k+x.ell,x.p)+x.p*log2(q-1)-x.ell*log2(q)\n",
    "P  = lambda x: min(0,r1(x)-p1(x)*log2(q))\n",
    "\n",
    "constraints = [\n",
    "    { 'type' : 'ineq',   'fun' : our(lambda x : k + x.ell - x.p - x.d)},\n",
    "    { 'type' : 'ineq',   'fun' : our(lambda x : 1-k-x.ell- (w-x.p))},\n",
    "    { 'type' : 'ineq',   'fun' : our(lambda x : 1-k-x.ell)},\n",
    "    { 'type' : 'ineq',   'fun' : our(lambda x : w-x.p)},\n",
    "    { 'type' : 'ineq',   'fun' : our(lambda x : x.p/2-x.i)},\n",
    "    { 'type' : 'ineq',   'fun' : our(lambda x : x.d-x.i)},\n",
    "    { 'type' : 'ineq',   'fun' : our(lambda x : r1(x)-p1(x)*log2(q))}\n",
    "]\n",
    "\n",
    "def memory(x):\n",
    "    return max(L0(x),P(x)+L1(x))\n",
    "\n",
    "def time(x):\n",
    "    x = set_vars(*x)  \n",
    "    return -P(x) + perms(x) + max(L0(x),T1(x))\n",
    "\n",
    "def optimize(verb=False):\n",
    "    variables=4\n",
    "    start = r(0,0.008,variables)\n",
    "    bounds = [(0, 1)]*variables\n",
    "    \n",
    "    result = opt.minimize(time, start, \n",
    "            bounds= bounds, tol=1e-10, \n",
    "            constraints=constraints, options={'maxiter':1000})\n",
    "    astuple = set_vars(*result.x) \n",
    "    x = set_vars(*result.x)    \n",
    "    return result\n",
    "\n",
    "def iterate_optimizer(iterations):\n",
    "    mini=10000\n",
    "    for i in range(iterations):\n",
    "        x=optimize()\n",
    "        if x.success and x.fun<mini:\n",
    "            mini=x.fun\n",
    "            result = x\n",
    "    return result"
   ]
  },
  {
   "cell_type": "code",
   "execution_count": null,
   "id": "276cd983-8a20-4722-8557-e7037786106f",
   "metadata": {},
   "outputs": [
    {
     "data": {
      "text/plain": [
       "0.463613175640554"
      ]
     },
     "execution_count": 395,
     "metadata": {},
     "output_type": "execute_result"
    }
   ],
   "source": [
    "res=iterate_optimizer(100)\n",
    "x=set_vars( *res.x)\n",
    "res.fun"
   ]
  },
  {
   "cell_type": "code",
   "execution_count": null,
   "id": "e3bf1d7e-075f-42a2-b3d7-7aa662e3b046",
   "metadata": {},
   "outputs": [
    {
     "name": "stdout",
     "output_type": "stream",
     "text": [
      "0.46894285119697365\n"
     ]
    }
   ],
   "source": [
    "# Pranges\n",
    "print(binomH(1., w) - binomH(1-k, w))"
   ]
  },
  {
   "cell_type": "code",
   "execution_count": null,
   "id": "a21ea089-dc08-44b0-921d-88de1df67a51",
   "metadata": {},
   "outputs": [
    {
     "name": "stdout",
     "output_type": "stream",
     "text": [
      "0.006584261406304399 representations\n",
      "0.0065841822568182655 q^p1\n",
      "0\n"
     ]
    }
   ],
   "source": [
    "#Compare representations to number of fixed variables on first level\n",
    "print(r1(x),\"representations\")\n",
    "print(p1(x)*log2(q),\"q^p1\")\n",
    "print(max(0,p1(x)*log2(q)-r1(x)))"
   ]
  },
  {
   "cell_type": "code",
   "execution_count": null,
   "id": "8a875624-3e04-4b7a-b82e-5a7ef6cabefc",
   "metadata": {},
   "outputs": [
    {
     "name": "stdout",
     "output_type": "stream",
     "text": [
      "0.008167897527788261 p\n",
      "0.00169438723614302 d\n",
      "0.0007262311302872216 i\n",
      "0.012654275222554572 ell\n"
     ]
    }
   ],
   "source": [
    "print(x.p,\"p\")\n",
    "print(x.d,\"d\")\n",
    "print(x.i,\"i\")\n",
    "print(x.ell,\"ell\")"
   ]
  },
  {
   "cell_type": "code",
   "execution_count": null,
   "id": "da433081-a89e-4ce7-944b-5292bc11ef53",
   "metadata": {},
   "outputs": [
    {
     "name": "stderr",
     "output_type": "stream",
     "text": [
      "C:\\Users\\freja\\AppData\\Local\\Temp\\ipykernel_8076\\1409435978.py:26: DeprecationWarning: Conversion of an array with ndim > 0 to a scalar is deprecated, and will error in future. Ensure you extract a single element from your array before performing this operation. (Deprecated NumPy 1.25.)\n",
      "  return fsolve(lambda x:v -(x*log(q-1,q)-x*log(x,q)-(1-x)*log(1-x,q)),0.0000001)[0]\n"
     ]
    }
   ],
   "source": [
    "Pranges = []\n",
    "Paolos = []\n",
    "for k in ks:\n",
    "    w = Hqi(1-k,q)\n",
    "    res=iterate_optimizer(100)\n",
    "    x=set_vars( *res.x)\n",
    "    Paolos.append(res.fun)\n",
    "    Pranges.append(binomH(1., w) - binomH(1-k, w))\n"
   ]
  },
  {
   "cell_type": "code",
   "execution_count": null,
   "id": "57f20eea-86ba-496c-b0ed-24caf05b8d86",
   "metadata": {},
   "outputs": [],
   "source": [
    "k = 0.5\n",
    "Paolos_w = []\n",
    "for w in ws:\n",
    "    res=iterate_optimizer(100)\n",
    "    x=set_vars( *res.x)\n",
    "    Paolos_w.append(res.fun)"
   ]
  },
  {
   "cell_type": "code",
   "execution_count": null,
   "id": "f2f439fc-f185-47e7-b02a-bc67ec06e8ab",
   "metadata": {},
   "outputs": [],
   "source": [
    "k = 0.5\n",
    "qs = range(50,1000,50)\n",
    "Paolos_q = []\n",
    "for q in qs:\n",
    "    w = Hqi(1-k,q)\n",
    "    res=iterate_optimizer(100)\n",
    "    x=set_vars( *res.x)\n",
    "    Paolos_q.append(res.fun)"
   ]
  },
  {
   "cell_type": "code",
   "execution_count": null,
   "id": "7c30f206-7154-48d0-9a26-542ab08d6c20",
   "metadata": {},
   "outputs": [
    {
     "data": {
      "image/png": "[encoded data removed]",
      "text/plain": [
       "<Figure size 640x480 with 1 Axes>"
      ]
     },
     "metadata": {},
     "output_type": "display_data"
    }
   ],
   "source": [
    "plt.plot(ks, Pranges, label = \"Prange\")\n",
    "plt.plot(ks, Sterns, label = \"Stern\")\n",
    "plt.plot(ks, Paolos, label = \"Paolo\")\n",
    "plt.legend()\n",
    "plt.xlabel(\"Code rate\")\n",
    "plt.ylabel(\"Complexity coefficient\")\n",
    "\n",
    "plt.savefig(\"paolos_MitM.png\")"
   ]
  },
  {
   "cell_type": "code",
   "execution_count": null,
   "id": "a1259330-34b1-4ab4-8da5-cf37eb05ff56",
   "metadata": {},
   "outputs": [
    {
     "data": {
      "image/png": "[encoded data removed]",
      "text/plain": [
       "<Figure size 640x480 with 1 Axes>"
      ]
     },
     "metadata": {},
     "output_type": "display_data"
    }
   ],
   "source": [
    "diff = [Sterns[i]-Paolos[i] for i in range(19)]\n",
    "plt.plot(ks,diff)\n",
    "plt.show()"
   ]
  },
  {
   "cell_type": "code",
   "execution_count": null,
   "id": "7da53534-6692-4548-be33-bcfe1947f542",
   "metadata": {},
   "outputs": [
    {
     "data": {
      "image/png": "[encoded data removed]",
      "text/plain": [
       "<Figure size 640x480 with 1 Axes>"
      ]
     },
     "metadata": {},
     "output_type": "display_data"
    }
   ],
   "source": [
    "plt.plot(qs, Sterns_q, label = \"Stern\")\n",
    "plt.plot(qs, Paolos_q, label = \"Paolo\")\n",
    "plt.legend()\n",
    "plt.show()"
   ]
  },
  {
   "cell_type": "code",
   "execution_count": null,
   "id": "afea6eee-fe3f-4d00-9cc6-64954a95cb6a",
   "metadata": {},
   "outputs": [
    {
     "data": {
      "image/png": "[encoded data removed]",
      "text/plain": [
       "<Figure size 640x480 with 1 Axes>"
      ]
     },
     "metadata": {},
     "output_type": "display_data"
    }
   ],
   "source": [
    "diff = [Sterns_q[i]-Paolos_q[i] for i in range(19)]\n",
    "plt.plot(qs,diff)\n",
    "plt.show()"
   ]
  },
  {
   "cell_type": "code",
   "execution_count": null,
   "id": "3d98ed48-dbe3-456d-b39c-c75fe1075fd8",
   "metadata": {},
   "outputs": [
    {
     "data": {
      "image/png": "[encoded data removed]",
      "text/plain": [
       "<Figure size 640x480 with 1 Axes>"
      ]
     },
     "metadata": {},
     "output_type": "display_data"
    }
   ],
   "source": [
    "plt.plot(ws, Sterns_w, label = \"Stern\")\n",
    "plt.plot(ws, Paolos_w, label = \"Paolo\")\n",
    "plt.legend()\n",
    "plt.show()"
   ]
  },
  {
   "cell_type": "code",
   "execution_count": null,
   "id": "48d1e5d3-ea5e-4655-8db5-e4098b209595",
   "metadata": {},
   "outputs": [
    {
     "data": {
      "image/png": "[encoded data removed]",
      "text/plain": [
       "<Figure size 640x480 with 1 Axes>"
      ]
     },
     "metadata": {},
     "output_type": "display_data"
    },
    {
     "name": "stdout",
     "output_type": "stream",
     "text": [
      "0.42594246710180533\n"
     ]
    }
   ],
   "source": [
    "diff = [Sterns_w[i]-Paolos_w[i] for i in range(11)]\n",
    "plt.plot(ws[:11],diff)\n",
    "plt.show()\n",
    "print(Hqi(0.5,10000))"
   ]
  },
  {
   "cell_type": "markdown",
   "id": "0de870bd-763b-427b-8b92-c3c08c4bbd18",
   "metadata": {
    "jp-MarkdownHeadingCollapsed": true
   },
   "source": [
    "### Paolos MitM 2 layer - has issues"
   ]
  },
  {
   "cell_type": "code",
   "execution_count": null,
   "id": "21b03bc2-d1b9-4bd6-ba73-dfbbc501b056",
   "metadata": {},
   "outputs": [
    {
     "name": "stderr",
     "output_type": "stream",
     "text": [
      "C:\\Users\\freja\\AppData\\Local\\Temp\\ipykernel_8076\\1409435978.py:26: DeprecationWarning: Conversion of an array with ndim > 0 to a scalar is deprecated, and will error in future. Ensure you extract a single element from your array before performing this operation. (Deprecated NumPy 1.25.)\n",
      "  return fsolve(lambda x:v -(x*log(q-1,q)-x*log(x,q)-(1-x)*log(1-x,q)),0.0000001)[0]\n"
     ]
    }
   ],
   "source": [
    "set_vars = collections.namedtuple('Our', 'p ell d1 d2 i1 i2 l0 l1')\n",
    "def our(f) : return wrap(f, set_vars)\n",
    "k = 0.5\n",
    "q = 50\n",
    "w = Hqi(1-k,q)\n",
    "\n",
    "perms = lambda x: binomH(1., w) - binomH(k+x.ell, x.p) - binomH(1-k-x.ell, w-x.p)\n",
    "\n",
    "p2 = lambda x: x.p/2+x.d2\n",
    "p1 = lambda x: p2(x)/2+x.d1\n",
    "r1 = lambda x: binomH(p2(x)-2*x.i1,p2(x)/2 - x.i1) + binomH(p2(x),2*x.i1) + 2*x.i1*log2(q-2) + binomH(k+x.ell-p2(x),x.d1-x.i1) + (x.d1-x.i1)*log2(q-1)\n",
    "r2 = lambda x: binomH(x.p  -2*x.i2,x.p/2   - x.i2) + binomH(x.p  ,2*x.i2) + 2*x.i2*log2(q-2) + binomH(k+x.ell-x.p  ,x.d2-x.i2) + (x.d2-x.i2)*log2(q-1)\n",
    "L0 = lambda x: binomH(k+x.ell,p1(x)) - binomH(x.l0,p1(x))\n",
    "T1 = lambda x: 2*L0(x) - (x.l1-x.l0)*log2(q)\n",
    "P1 = lambda x: min(0,r1(x)-x.l0*log2(q))\n",
    "L1 = lambda x: binomH(k+x.ell , p2(x)) + log2(q-1)*p2(x) - x.l1*log2(q)\n",
    "P2 = lambda x: min(0,r2(x)-x.l1*log2(q))\n",
    "T2 = lambda x: 2*L1(x) - (x.ell-x.l1)*log2(q)\n",
    "\n",
    "\n",
    "constraints = [\n",
    "    { 'type' : 'ineq',   'fun' : our(lambda x : k + x.ell - x.p   - x.d2)},\n",
    "    #{ 'type' : 'ineq',   'fun' : our(lambda x : 0.01 - memory(x))},\n",
    "    { 'type' : 'ineq',   'fun' : our(lambda x : k + x.ell - p2(x) - x.d1)},\n",
    "    { 'type' : 'ineq',   'fun' : our(lambda x : 1-k-x.ell - (w-x.p))},\n",
    "    { 'type' : 'ineq',   'fun' : our(lambda x : 1-k-x.ell)},\n",
    "    { 'type' : 'ineq',   'fun' : our(lambda x : x.ell-x.l1)},\n",
    "    { 'type' : 'ineq',   'fun' : our(lambda x : x.l1-x.l0)},\n",
    "    { 'type' : 'ineq',   'fun' : our(lambda x : w-x.p)},\n",
    "    { 'type' : 'ineq',   'fun' : our(lambda x : x.p/2   - x.i2)},\n",
    "    { 'type' : 'ineq',   'fun' : our(lambda x : p2(x)/2 - x.i1)},\n",
    "    { 'type' : 'ineq',   'fun' : our(lambda x : x.d2-x.i2)},\n",
    "    { 'type' : 'ineq',   'fun' : our(lambda x : x.d1-x.i1)},   \n",
    "    { 'type' : 'ineq',   'fun' : our(lambda x : x.l0-p1(x))},  \n",
    "\n",
    "]\n",
    "\n",
    "def memory(x):\n",
    "    return max(L0(x),L1(x))\n",
    "\n",
    "def time(x):\n",
    "    x = set_vars(*x)  \n",
    "    return -P2(x) + perms(x) + max(-P1(x) + L0(x),L1(x),-P1(x) + T1(x),T2(x))\n",
    "\n",
    "def optimize(verb=False, cons=constraints):\n",
    "    variables = 8\n",
    "    start = r(0,0.1,variables)\n",
    "    bounds = [(0, 1)]*2+[(0, 0.1)]*(variables-2)\n",
    "\n",
    "    result = opt.minimize(time, start, \n",
    "            bounds= bounds, tol=1e-7, \n",
    "            constraints=cons, options={'maxiter':1000})\n",
    "    astuple = set_vars(*result.x) \n",
    "    x = set_vars(*result.x)    \n",
    "    return result\n",
    "\n",
    "def iterate_optimizer(iterations,cons=constraints):\n",
    "    mini=100\n",
    "    for i in range(iterations):\n",
    "        x=optimize(cons=cons)\n",
    "        if x.success and x.fun<mini:\n",
    "            mini=x.fun\n",
    "            result = x\n",
    "    return result\n",
    "\n",
    "def optimize_mem_constrain(iterations,mem,verb=False):\n",
    "    constraints_mem = constraints + [{ 'type' : 'ineq',   'fun' : our(lambda x : mem - memory(x))}]\n",
    "    return iterate_optimizer(iterations,cons=constraints_mem)\n",
    "\n",
    "def iterate_optimizer_mem(iterations,mem):\n",
    "    mini=100\n",
    "    for i in range(iterations):\n",
    "        x=optimize_mem_constrain(mem)\n",
    "        if x.success and x.fun<mini:\n",
    "            mini=x.fun\n",
    "            result = x\n",
    "    return result"
   ]
  },
  {
   "cell_type": "code",
   "execution_count": null,
   "id": "9baf6529-45ab-43ed-8aac-9b09350cbc46",
   "metadata": {},
   "outputs": [
    {
     "data": {
      "text/plain": [
       "0.46394678933822475"
      ]
     },
     "execution_count": 383,
     "metadata": {},
     "output_type": "execute_result"
    }
   ],
   "source": [
    "res=iterate_optimizer(300)\n",
    "x=set_vars( *res.x)\n",
    "res.fun"
   ]
  },
  {
   "cell_type": "code",
   "execution_count": null,
   "id": "8f737a17-4a19-43a9-aac2-79c762702494",
   "metadata": {},
   "outputs": [
    {
     "name": "stdout",
     "output_type": "stream",
     "text": [
      "Prange 0.46894285119697365\n"
     ]
    }
   ],
   "source": [
    "print(\"Prange\", binomH(1., w) -  binomH(1-k, w))"
   ]
  },
  {
   "cell_type": "code",
   "execution_count": null,
   "id": "217c191a-35a5-4c44-a9ca-90935a64b659",
   "metadata": {},
   "outputs": [
    {
     "data": {
      "text/plain": [
       "(0.01018304573082118,\n",
       " 0.006075569396911706,\n",
       " 0.003119684184587356,\n",
       " 8.189948613150314e-05,\n",
       " 0.0009840465315011158,\n",
       " 3.686799097837745e-05,\n",
       " 0.00047656233818431403)"
      ]
     },
     "execution_count": 385,
     "metadata": {},
     "output_type": "execute_result"
    }
   ],
   "source": [
    "x.p, p2(x),p1(x), x.d1 , x.d2 , x.i1 , x.i2 "
   ]
  },
  {
   "cell_type": "code",
   "execution_count": null,
   "id": "71c6d9a3-b784-4789-985d-5ed7cd897e7c",
   "metadata": {},
   "outputs": [
    {
     "data": {
      "text/plain": [
       "(0.014452047261059848, 0.00797267663707848, 0.0031196841845873564)"
      ]
     },
     "execution_count": 386,
     "metadata": {},
     "output_type": "execute_result"
    }
   ],
   "source": [
    "x.ell ,  x.l1,  x.l0 "
   ]
  },
  {
   "cell_type": "code",
   "execution_count": null,
   "id": "49980408-f258-48c7-9de8-b6885bd5f28f",
   "metadata": {},
   "outputs": [
    {
     "data": {
      "text/plain": [
       "(0.037159422396931596,\n",
       " 0.0367363261358567,\n",
       " 0.03723492108082796,\n",
       " 0.03690401626971164,\n",
       " -0.017243797414163146)"
      ]
     },
     "execution_count": 387,
     "metadata": {},
     "output_type": "execute_result"
    }
   ],
   "source": [
    "-P1(x) + L0(x),L1(x),-P1(x) + T1(x),T2(x),P2(x)"
   ]
  },
  {
   "cell_type": "code",
   "execution_count": null,
   "id": "2f344b5c-98cd-4665-9bc9-435c8d122fcf",
   "metadata": {},
   "outputs": [
    {
     "data": {
      "text/plain": [
       "(-0.0026880497453272536, 0)"
      ]
     },
     "execution_count": 341,
     "metadata": {},
     "output_type": "execute_result"
    }
   ],
   "source": [
    "P1(x),P2(x)"
   ]
  },
  {
   "cell_type": "code",
   "execution_count": null,
   "id": "7f69d046-3f87-4cb8-a739-ba57247b7ea1",
   "metadata": {},
   "outputs": [
    {
     "data": {
      "text/plain": [
       "(0.00417470627435029, 0.006862756019677544, 0.017797402297904642)"
      ]
     },
     "execution_count": 342,
     "metadata": {},
     "output_type": "execute_result"
    }
   ],
   "source": [
    "r1(x),x.l0*log2(q),r2(x)"
   ]
  },
  {
   "cell_type": "markdown",
   "id": "6aa7e937-1b6e-4b64-9d17-b6552ce71b79",
   "metadata": {
    "jp-MarkdownHeadingCollapsed": true
   },
   "source": [
    "### Meurer BJMM (2 levels)"
   ]
  },
  {
   "cell_type": "code",
   "execution_count": 76,
   "id": "0902c81e-cb1a-4b52-ad7c-9c908fdf9b93",
   "metadata": {},
   "outputs": [
    {
     "name": "stderr",
     "output_type": "stream",
     "text": [
      "C:\\Users\\freja\\AppData\\Local\\Temp\\ipykernel_12920\\483796357.py:27: DeprecationWarning: Conversion of an array with ndim > 0 to a scalar is deprecated, and will error in future. Ensure you extract a single element from your array before performing this operation. (Deprecated NumPy 1.25.)\n",
      "  return fsolve(lambda x:v -(x*log(q-1,q)-x*log(x,q)-(1-x)*log(1-x,q)),0.0000001)[0]\n"
     ]
    }
   ],
   "source": [
    "set_vars = collections.namedtuple('Our', 'p d ell i')\n",
    "def our(f) : return wrap(f, set_vars)\n",
    "k = 0.5\n",
    "q = 2**12\n",
    "w = Hqi(1-k,q)\n",
    "\n",
    "perms = lambda x: binomH(1., w) - binomH(k+x.ell, x.p) - binomH(1-k-x.ell, w-x.p)\n",
    "\n",
    "p1 = lambda x: x.p/2+x.d\n",
    "r1 = lambda x: binomH(x.p-2*x.i,x.p/2 - x.i) + binomH(x.p,2*x.i) + 2*x.i*log2(q-2) + binomH(k+x.ell-x.p,x.d-x.i) + (x.d-x.i)*log2(q-1)\n",
    "L0 = lambda x: binomH((k+x.ell)/2,p1(x)/2)+ (p1(x)/2)*log2(q-1)\n",
    "L1 = lambda x: 2*L0(x) - r1(x)\n",
    "T2 = lambda x: 2*L1(x) - (log2(q)*x.ell-r1(x))\n",
    "\n",
    "constraints = [\n",
    "    { 'type' : 'ineq',   'fun' : our(lambda x : k + x.ell - x.p - x.d)},\n",
    "    { 'type' : 'ineq',   'fun' : our(lambda x : 1-k-x.ell- (w-x.p))},\n",
    "    { 'type' : 'ineq',   'fun' : our(lambda x : 1-k-x.ell)},\n",
    "    { 'type' : 'ineq',   'fun' : our(lambda x : w-x.p)},\n",
    "    { 'type' : 'ineq',   'fun' : our(lambda x : x.p/2-x.i)},\n",
    "    { 'type' : 'ineq',   'fun' : our(lambda x : x.d-x.i)},\n",
    "    { 'type' : 'ineq',   'fun' : our(lambda x : x.ell*log2(q)-r1(x))}\n",
    "]\n",
    "\n",
    "def memory(x):\n",
    "    return max(L0(x),L1(x))\n",
    "\n",
    "def time(x):\n",
    "    x = set_vars(*x)  \n",
    "    return perms(x) + max(L0(x),L1(x),T2(x))\n",
    "\n",
    "def optimize(verb=False):\n",
    "    variables=4\n",
    "    start = r(0,0.008,variables)\n",
    "    bounds = [(0, 1)]*variables\n",
    "    \n",
    "    result = opt.minimize(time, start, \n",
    "            bounds= bounds, tol=1e-10, \n",
    "            constraints=constraints, options={'maxiter':1000})\n",
    "    astuple = set_vars(*result.x) \n",
    "    x = set_vars(*result.x)    \n",
    "    return result\n",
    "\n",
    "def iterate_optimizer(iterations):\n",
    "    mini=100\n",
    "    for i in range(iterations):\n",
    "        x=optimize()\n",
    "        if x.success and x.fun<mini:\n",
    "            mini=x.fun\n",
    "            result = x\n",
    "    return result"
   ]
  },
  {
   "cell_type": "code",
   "execution_count": 77,
   "id": "92ab4a88-854f-482a-9b2f-777b2fdb5dcd",
   "metadata": {},
   "outputs": [
    {
     "data": {
      "text/plain": [
       "0.659329779618888"
      ]
     },
     "execution_count": 77,
     "metadata": {},
     "output_type": "execute_result"
    }
   ],
   "source": [
    "res=iterate_optimizer(100)\n",
    "x=set_vars( *res.x)\n",
    "res.fun"
   ]
  },
  {
   "cell_type": "code",
   "execution_count": 38,
   "id": "c56fbead-d7bc-4f97-8ea4-e4ae1d7078e2",
   "metadata": {},
   "outputs": [
    {
     "data": {
      "text/plain": [
       "(0.010354886221944722,\n",
       " 0.006942739216589911,\n",
       " 0.010354888360982641,\n",
       " 0.0035305922112350992,\n",
       " 0.6065331386314681)"
      ]
     },
     "execution_count": 38,
     "metadata": {},
     "output_type": "execute_result"
    }
   ],
   "source": [
    "L1(x),L0(x),T2(x), r1(x), perms(x)"
   ]
  },
  {
   "cell_type": "code",
   "execution_count": 39,
   "id": "b6a8e610-5407-4181-b078-417aabf76926",
   "metadata": {},
   "outputs": [
    {
     "data": {
      "text/plain": [
       "(0.0011427358035069346, 0.0006609789882704465)"
      ]
     },
     "execution_count": 39,
     "metadata": {},
     "output_type": "execute_result"
    }
   ],
   "source": [
    "x.p, p1(x),"
   ]
  },
  {
   "cell_type": "code",
   "execution_count": 40,
   "id": "2cd18a7c-f0aa-4d23-9203-c3276dc2514c",
   "metadata": {},
   "outputs": [
    {
     "data": {
      "text/plain": [
       "(0.0013885476294141902, 8.961108651697916e-05, 5.848403865884336e-05)"
      ]
     },
     "execution_count": 40,
     "metadata": {},
     "output_type": "execute_result"
    }
   ],
   "source": [
    "x.ell, x.d, x.i"
   ]
  },
  {
   "cell_type": "code",
   "execution_count": null,
   "id": "36c74f6b-306b-4724-95d1-bcfcbd65a1c0",
   "metadata": {},
   "outputs": [],
   "source": []
  },
  {
   "cell_type": "markdown",
   "id": "1ce20242-1aed-461f-9739-b3be648ee31c",
   "metadata": {
    "jp-MarkdownHeadingCollapsed": true
   },
   "source": [
    "### Ternary BJMM with variable number of 1's and 2's in base lists"
   ]
  },
  {
   "cell_type": "code",
   "execution_count": null,
   "id": "2b527afb-727d-4deb-a48b-1edd53d6e05f",
   "metadata": {},
   "outputs": [
    {
     "name": "stderr",
     "output_type": "stream",
     "text": [
      "C:\\Users\\freja\\AppData\\Local\\Temp\\ipykernel_2748\\1409435978.py:26: DeprecationWarning: Conversion of an array with ndim > 0 to a scalar is deprecated, and will error in future. Ensure you extract a single element from your array before performing this operation. (Deprecated NumPy 1.25.)\n",
      "  return fsolve(lambda x:v -(x*log(q-1,q)-x*log(x,q)-(1-x)*log(1-x,q)),0.0000001)[0]\n"
     ]
    }
   ],
   "source": [
    "set_vars = collections.namedtuple('Our', 'p ep0 ep1 ep2 ell')\n",
    "def our(f) : return wrap(f, set_vars)\n",
    "k = 0.1\n",
    "q = 3 ## OBS This algorithm only works for q = 3.\n",
    "w = Hqi(1-k,q)\n",
    "\n",
    "perms = lambda x: binomH(1., w) - binomH(k+x.ell, x.p) - binomH(1-k-x.ell, w-x.p) ## Here I don't need extra factor for perfect split between 1's and 2's?\n",
    "\n",
    "p1 = lambda x: x.ep0 + x.ep1 + x.p/2 - 2*x.ep2\n",
    "p2 = lambda x: x.ep0 + x.ep2 + x.p/2 - 2*x.ep1\n",
    "r1 = lambda x: binomH(x.p/2,x.ep1) + binomH(x.p/2-x.ep1,x.ep1) + binomH(x.p/2,x.ep2) + binomH(x.p/2-x.ep2,x.ep2) + binomH(k+x.ell-x.p,x.ep0) + binomH(k+x.ell-x.p-x.ep0,x.ep0)\n",
    "L0 = lambda x: binomH((k+x.ell)/2,p1(x)/2)+ binomH((k+x.ell-p1(x))/2,p2(x)/2)\n",
    "L1 = lambda x: 2*L0(x) - r1(x)\n",
    "T2 = lambda x: 2*L1(x) - (log2(q)*x.ell-r1(x))\n",
    "\n",
    "constraints = [\n",
    "    { 'type' : 'ineq',   'fun' : our(lambda x : k + x.ell - x.p)},\n",
    "    { 'type' : 'ineq',   'fun' : our(lambda x : 1-k-x.ell - (w-x.p))},\n",
    "    { 'type' : 'ineq',   'fun' : our(lambda x : 1-k-x.ell)},\n",
    "    { 'type' : 'ineq',   'fun' : our(lambda x : w-x.p)},\n",
    "    { 'type' : 'eq',   'fun' : our(lambda x : p1(x)-p2(x))},\n",
    "    { 'type' : 'ineq',   'fun' : our(lambda x : x.p/2-2*x.ep2)},\n",
    "    { 'type' : 'ineq',   'fun' : our(lambda x : x.p/2-2*x.ep1)},\n",
    "    { 'type' : 'ineq',   'fun' : our(lambda x : k + x.ell-x.p-2*x.ep0)},\n",
    "    { 'type' : 'ineq',   'fun' : our(lambda x : x.ell*log2(q)-r1(x))}\n",
    "]\n",
    "\n",
    "def memory(x):\n",
    "    return max(L0(x),L1(x))\n",
    "\n",
    "def time(x):\n",
    "    x = set_vars(*x)  \n",
    "    return perms(x) + max(L0(x),L1(x),T2(x))\n",
    "\n",
    "def optimize(verb=False):\n",
    "    variables=5\n",
    "    start = r(0,0.008,variables)\n",
    "    bounds = [(0, 1)]*variables\n",
    "    \n",
    "    result = opt.minimize(time, start, \n",
    "            bounds= bounds, tol=1e-10, \n",
    "            constraints=constraints, options={'maxiter':1000})\n",
    "    astuple = set_vars(*result.x) \n",
    "    x = set_vars(*result.x)    \n",
    "    return result\n",
    "\n",
    "def iterate_optimizer(iterations):\n",
    "    mini=100\n",
    "    for i in range(iterations):\n",
    "        x=optimize()\n",
    "        if x.success and x.fun<mini:\n",
    "            mini=x.fun\n",
    "            result = x\n",
    "    return result"
   ]
  },
  {
   "cell_type": "code",
   "execution_count": null,
   "id": "93272b18-01f3-4ab8-b8d5-2ebe336fb254",
   "metadata": {},
   "outputs": [],
   "source": [
    "res=iterate_optimizer(100)"
   ]
  },
  {
   "cell_type": "code",
   "execution_count": null,
   "id": "1f7700de-7edc-4ba8-bc7e-a01815464e45",
   "metadata": {},
   "outputs": [
    {
     "data": {
      "text/plain": [
       "0.08420885369893122"
      ]
     },
     "execution_count": 115,
     "metadata": {},
     "output_type": "execute_result"
    }
   ],
   "source": [
    "x=set_vars( *res.x)\n",
    "res.fun"
   ]
  },
  {
   "cell_type": "code",
   "execution_count": null,
   "id": "b57ebcc3-7886-4788-b264-c9cabf37e5f6",
   "metadata": {},
   "outputs": [
    {
     "data": {
      "text/plain": [
       "0.053129871312801585"
      ]
     },
     "execution_count": 116,
     "metadata": {},
     "output_type": "execute_result"
    }
   ],
   "source": [
    "time(x)*log(2,q)  #0.05312935773137903"
   ]
  },
  {
   "cell_type": "code",
   "execution_count": null,
   "id": "9d86ccfb-ca94-40cc-ad21-ffd283f0b66d",
   "metadata": {},
   "outputs": [
    {
     "data": {
      "text/plain": [
       "(0.0064266037497253195, 0.0064266037497253195)"
      ]
     },
     "execution_count": 117,
     "metadata": {},
     "output_type": "execute_result"
    }
   ],
   "source": [
    "p1(x),p2(x)"
   ]
  },
  {
   "cell_type": "markdown",
   "id": "c5e7c711-81c3-437d-95bd-85929358457f",
   "metadata": {
    "jp-MarkdownHeadingCollapsed": true
   },
   "source": [
    "### Ternary BJMM with variable number of 1's and 2's in base list with three levels."
   ]
  },
  {
   "cell_type": "code",
   "execution_count": null,
   "id": "9bfca100-d421-42bd-837a-f147724f0780",
   "metadata": {},
   "outputs": [
    {
     "name": "stderr",
     "output_type": "stream",
     "text": [
      "C:\\Users\\freja\\AppData\\Local\\Temp\\ipykernel_2748\\1409435978.py:26: DeprecationWarning: Conversion of an array with ndim > 0 to a scalar is deprecated, and will error in future. Ensure you extract a single element from your array before performing this operation. (Deprecated NumPy 1.25.)\n",
      "  return fsolve(lambda x:v -(x*log(q-1,q)-x*log(x,q)-(1-x)*log(1-x,q)),0.0000001)[0]\n"
     ]
    }
   ],
   "source": [
    "set_vars = collections.namedtuple('Our', 'p ep0 ep1 ep2 de0 de1 de2 ell')\n",
    "def our(f) : return wrap(f, set_vars)\n",
    "k = 0.1\n",
    "q = 3 ## OBS This algorithm only works for q = 3.\n",
    "w = Hqi(1-k,q)\n",
    "\n",
    "perms = lambda x: binomH(1., w) - binomH(k+x.ell, x.p) - binomH(1-k-x.ell, w-x.p) ## Here I don't need extra factor for perfect split between 1's and 2's?\n",
    "\n",
    "q1 = lambda x: x.de0 + x.de1 + x.p/2 - 2*x.de2\n",
    "q2 = lambda x: x.de0 + x.de2 + x.p/2 - 2*x.de1\n",
    "p1 = lambda x: x.ep0 + x.ep1 + q1(x) - 2*x.ep2\n",
    "p2 = lambda x: x.ep0 + x.ep2 + q2(x) - 2*x.ep1\n",
    "r1 = lambda x: binomH(q1(x),x.ep1) + binomH(q1(x)-x.ep1,x.ep1) + binomH(q2(x),x.ep2) + binomH(q2(x)-x.ep2,x.ep2) + binomH(k+x.ell-q1(x)-q2(x),x.ep0) + binomH(k+x.ell-q1(x)-q2(x)-x.ep0,x.ep0)\n",
    "r2 = lambda x: binomH(x.p/2,x.de1) + binomH(x.p/2-x.de1,x.de1) + binomH(x.p/2,x.de2) + binomH(x.p/2-x.de2,x.de2) + binomH(k+x.ell-x.p,x.de0) + binomH(k+x.ell-x.p-x.de0,x.de0)\n",
    "L0 = lambda x: binomH((k+x.ell)/2,p1(x)/2)+ binomH((k+x.ell-p1(x))/2,p2(x)/2)\n",
    "L1 = lambda x: 2*L0(x) - r1(x)\n",
    "T2 = lambda x: 2*L1(x) - (r2(x)-r1(x))\n",
    "L2 = lambda x: binomH(k+x.ell,q1(x)) + binomH(k+x.ell - q1(x),q2(x)) - r2(x)\n",
    "T3 = lambda x: 2*L2(x) - (log2(q)*x.ell-r2(x))\n",
    "\n",
    "constraints = [\n",
    "    { 'type' : 'ineq',   'fun' : our(lambda x : k + x.ell - q1(x)-q2(x))},\n",
    "    { 'type' : 'ineq',   'fun' : our(lambda x : k + x.ell - p1(x)-p2(x))},\n",
    "    { 'type' : 'ineq',   'fun' : our(lambda x : k + x.ell - x.p)},\n",
    "    { 'type' : 'ineq',   'fun' : our(lambda x : 1-k-x.ell - (w-x.p))},\n",
    "    { 'type' : 'ineq',   'fun' : our(lambda x : 1-k-x.ell)},\n",
    "    { 'type' : 'ineq',   'fun' : our(lambda x : w-x.p)},\n",
    "    { 'type' : 'ineq',   'fun' : our(lambda x : p1(x))},\n",
    "    { 'type' : 'ineq',   'fun' : our(lambda x : p2(x))},\n",
    "    { 'type' : 'ineq',   'fun' : our(lambda x : q1(x))},\n",
    "    { 'type' : 'ineq',   'fun' : our(lambda x : q2(x))},\n",
    "    { 'type' : 'eq',   'fun' : our(lambda x : p1(x)-p2(x))},\n",
    "    { 'type' : 'eq',   'fun' : our(lambda x : q1(x)-q2(x))},\n",
    "    { 'type' : 'ineq',   'fun' : our(lambda x : q2(x)-2*x.ep2)},\n",
    "    { 'type' : 'ineq',   'fun' : our(lambda x : q1(x)-2*x.ep1)},\n",
    "    { 'type' : 'ineq',   'fun' : our(lambda x : k + x.ell-q1(x)-q2(x)-2*x.ep0)},\n",
    "    { 'type' : 'ineq',   'fun' : our(lambda x : x.p/2-2*x.de1)},\n",
    "    { 'type' : 'ineq',   'fun' : our(lambda x : x.p/2-2*x.de2)},\n",
    "    { 'type' : 'ineq',   'fun' : our(lambda x : k + x.ell-x.p-2*x.de0)},\n",
    "    { 'type' : 'ineq',   'fun' : our(lambda x : x.ell*log2(q)-r2(x))},\n",
    "    { 'type' : 'ineq',   'fun' : our(lambda x : r2(x)-r1(x))}\n",
    "]\n",
    "\n",
    "def memory(x):\n",
    "    return max(L0(x),L1(x),L2(x))\n",
    "\n",
    "def time(x):\n",
    "    x = set_vars(*x)  \n",
    "    if  k + x.ell - q1(x)-q2(x) < 0 or k + x.ell - p1(x)-p2(x)<0:\n",
    "        100\n",
    "    return perms(x) + max(L0(x),L1(x),T2(x),L2(x),T3(x))\n",
    "\n",
    "def optimize(verb=False):\n",
    "    variables=8\n",
    "    start = r(0,0.008,variables)\n",
    "    bounds = [(0, 1)]*variables\n",
    "    \n",
    "    result = opt.minimize(time, start, \n",
    "            bounds= bounds, tol=1e-10, \n",
    "            constraints=constraints, options={'maxiter':1000})\n",
    "    astuple = set_vars(*result.x) \n",
    "    x = set_vars(*result.x)    \n",
    "    return result\n",
    "\n",
    "def iterate_optimizer(iterations):\n",
    "    mini=100\n",
    "    for i in range(iterations):\n",
    "        x=optimize()\n",
    "        if x.success and x.fun<mini:\n",
    "            mini=x.fun\n",
    "            result = x\n",
    "    return result"
   ]
  },
  {
   "cell_type": "code",
   "execution_count": null,
   "id": "091e1ce0-0fb0-4bbd-b03c-863f18a914bb",
   "metadata": {},
   "outputs": [],
   "source": [
    "res=iterate_optimizer(100)"
   ]
  },
  {
   "cell_type": "code",
   "execution_count": null,
   "id": "70c53914-696f-47ab-8e80-b755672db60e",
   "metadata": {},
   "outputs": [
    {
     "data": {
      "text/plain": [
       "0.0831012256017449"
      ]
     },
     "execution_count": 120,
     "metadata": {},
     "output_type": "execute_result"
    }
   ],
   "source": [
    "x=set_vars( *res.x)\n",
    "res.fun"
   ]
  },
  {
   "cell_type": "code",
   "execution_count": null,
   "id": "22171c1f-d371-4564-b7c5-a841423aafc3",
   "metadata": {},
   "outputs": [
    {
     "data": {
      "text/plain": [
       "0.052431035790395"
      ]
     },
     "execution_count": 121,
     "metadata": {},
     "output_type": "execute_result"
    }
   ],
   "source": [
    "time(x)*log(2,q)  \n",
    "#Meurer:     0.05312937361264773\n",
    "#Unbalanced: 0.0523705750539989\n",
    "#Balanced:   0.052375210641126047"
   ]
  },
  {
   "cell_type": "code",
   "execution_count": null,
   "id": "65db3c24-8b21-41c6-9850-0039a8754303",
   "metadata": {},
   "outputs": [
    {
     "data": {
      "text/plain": [
       "(0.03930021228082506,\n",
       " 0.04595205198853303,\n",
       " 0.04604830556571901,\n",
       " 0.0460482738862322)"
      ]
     },
     "execution_count": 122,
     "metadata": {},
     "output_type": "execute_result"
    }
   ],
   "source": [
    "L0(x),L1(x),T2(x),T3(x)"
   ]
  },
  {
   "cell_type": "code",
   "execution_count": null,
   "id": "8995e7d3-84e5-4560-872e-0549ff0c4b73",
   "metadata": {},
   "outputs": [
    {
     "data": {
      "text/plain": [
       "(0.006330711360164918, 0.006330711360164918)"
      ]
     },
     "execution_count": 123,
     "metadata": {},
     "output_type": "execute_result"
    }
   ],
   "source": [
    "p1(x),p2(x)"
   ]
  },
  {
   "cell_type": "code",
   "execution_count": null,
   "id": "6bbf6b59-dac8-4731-8e33-17b32546d22b",
   "metadata": {},
   "outputs": [
    {
     "data": {
      "text/plain": [
       "(0.011842865338062468, 0.011842865338062468)"
      ]
     },
     "execution_count": 124,
     "metadata": {},
     "output_type": "execute_result"
    }
   ],
   "source": [
    "q1(x),q2(x)"
   ]
  },
  {
   "cell_type": "markdown",
   "id": "d471f214-6a02-414a-9389-5602d0fb80b8",
   "metadata": {
    "jp-MarkdownHeadingCollapsed": true
   },
   "source": [
    "### Two levels F_5 with variable number of 1,2,3,4's in baselists"
   ]
  },
  {
   "cell_type": "code",
   "execution_count": null,
   "id": "d9a0b991-f87a-4f02-9828-6bf7fabea079",
   "metadata": {},
   "outputs": [
    {
     "name": "stderr",
     "output_type": "stream",
     "text": [
      "C:\\Users\\freja\\AppData\\Local\\Temp\\ipykernel_2748\\1409435978.py:26: DeprecationWarning: Conversion of an array with ndim > 0 to a scalar is deprecated, and will error in future. Ensure you extract a single element from your array before performing this operation. (Deprecated NumPy 1.25.)\n",
      "  return fsolve(lambda x:v -(x*log(q-1,q)-x*log(x,q)-(1-x)*log(1-x,q)),0.0000001)[0]\n"
     ]
    }
   ],
   "source": [
    "set_vars = collections.namedtuple('Our', 'p ep01 ep02 ep1 ep2 ep3 ep4 ell')\n",
    "def our(f) : return wrap(f, set_vars)\n",
    "k = 0.1\n",
    "q = 5 ## OBS This algorithm only works for q = 5.\n",
    "w = Hqi(1-k,q)\n",
    "\n",
    "perms = lambda x: binomH(1., w) - binomH(k+x.ell, x.p) - binomH(1-k-x.ell, w-x.p) \n",
    "\n",
    "p1 = lambda x: x.ep01 + x.ep1 + x.ep2 + x.p/4 - 2*x.ep3 - x.ep4\n",
    "p2 = lambda x: x.ep02 + x.ep4 + x.p/4 - 2*x.ep1 - x.ep2 + x.ep3\n",
    "p3 = lambda x: p2(x)\n",
    "p4 = lambda x: p1(x)\n",
    "r1 = lambda x: 2 * multiH(x.p/4 , [x.ep1,x.ep1,x.ep2,x.ep2]) + 2* multiH(x.p/4,[x.ep3,x.ep3,x.ep4,x.ep4]) + multiH(k+x.ell-x.p,[x.ep01,x.ep01,x.ep02,x.ep02])\n",
    "L0 = lambda x: multiH((k+x.ell)/2,[p1(x)/2,p2(x)/2,p3(x)/2,p4(x)/2])\n",
    "L1 = lambda x: 2*L0(x) - r1(x)\n",
    "T2 = lambda x: 2*L1(x) - (log2(q)*x.ell-r1(x))\n",
    "\n",
    "constraints = [\n",
    "    { 'type' : 'ineq',   'fun' : our(lambda x : k + x.ell - x.p)},\n",
    "    { 'type' : 'ineq',   'fun' : our(lambda x : 1-k-x.ell - (w-x.p))},\n",
    "    { 'type' : 'ineq',   'fun' : our(lambda x : 1-k-x.ell)},\n",
    "    { 'type' : 'ineq',   'fun' : our(lambda x : w-x.p)},\n",
    "    { 'type' : 'eq',   'fun' : our(lambda x : p1(x)-p2(x))},\n",
    "    { 'type' : 'ineq',   'fun' : our(lambda x : x.p/4-2*x.ep1-2*x.ep2)},\n",
    "    { 'type' : 'ineq',   'fun' : our(lambda x : x.p/4-2*x.ep3-2*x.ep4)},\n",
    "    { 'type' : 'ineq',   'fun' : our(lambda x : k + x.ell-x.p-2*x.ep01-2*x.ep02)},\n",
    "    { 'type' : 'ineq',   'fun' : our(lambda x : x.ell*log2(q)-r1(x))},\n",
    "    { 'type' : 'ineq',   'fun' : our(lambda x : p1(x))},\n",
    "    { 'type' : 'ineq',   'fun' : our(lambda x : p2(x))},\n",
    "]\n",
    "\n",
    "def memory(x):\n",
    "    return max(L0(x),L1(x))\n",
    "\n",
    "def time(x):\n",
    "    x = set_vars(*x)  \n",
    "    return perms(x) + max(L0(x),L1(x),T2(x))\n",
    "\n",
    "def optimize(verb=False):\n",
    "    variables = 8\n",
    "    start = r(0,0.008,variables)\n",
    "    bounds = [(0, 1)]*variables\n",
    "    \n",
    "    result = opt.minimize(time, start, \n",
    "            bounds= bounds, tol=1e-10, \n",
    "            constraints=constraints, options={'maxiter':1000})\n",
    "    astuple = set_vars(*result.x) \n",
    "    x = set_vars(*result.x)    \n",
    "    return result\n",
    "\n",
    "def iterate_optimizer(iterations):\n",
    "    mini=100\n",
    "    for i in range(iterations):\n",
    "        x=optimize()\n",
    "        if x.success and x.fun<mini:\n",
    "            mini=x.fun\n",
    "            result = x\n",
    "    return result"
   ]
  },
  {
   "cell_type": "code",
   "execution_count": null,
   "id": "e27fa9bf-c147-4084-ae76-f3849e29804a",
   "metadata": {},
   "outputs": [],
   "source": [
    "res=iterate_optimizer(100)"
   ]
  },
  {
   "cell_type": "code",
   "execution_count": null,
   "id": "38c21721-dd8f-47db-bffd-5ab1f51cd04e",
   "metadata": {},
   "outputs": [
    {
     "data": {
      "text/plain": [
       "0.1193211078727135"
      ]
     },
     "execution_count": 29,
     "metadata": {},
     "output_type": "execute_result"
    }
   ],
   "source": [
    "x=set_vars( *res.x)\n",
    "res.fun"
   ]
  },
  {
   "cell_type": "code",
   "execution_count": null,
   "id": "75dc9cd3-3537-4452-884e-7483251043a7",
   "metadata": {},
   "outputs": [
    {
     "data": {
      "text/plain": [
       "0.05138880404412429"
      ]
     },
     "execution_count": 30,
     "metadata": {},
     "output_type": "execute_result"
    }
   ],
   "source": [
    "time(x)*log(2,q)  \n",
    "#Meurer:     0.05138407659835931\n",
    "#Unbalanced: 0.05138805873825551\n",
    "#Balanced:   0.05138880404412429"
   ]
  },
  {
   "cell_type": "code",
   "execution_count": null,
   "id": "ea880b6a-7fd6-4f8d-acbb-d5a60242e616",
   "metadata": {},
   "outputs": [
    {
     "data": {
      "text/plain": [
       "(0.04678771620523717, 0.046817911877485685, 0.04681776356950189)"
      ]
     },
     "execution_count": 31,
     "metadata": {},
     "output_type": "execute_result"
    }
   ],
   "source": [
    "L0(x),L1(x),T2(x)"
   ]
  },
  {
   "cell_type": "code",
   "execution_count": null,
   "id": "4ef7564b-ec16-441d-9f6c-cf0568ad9e18",
   "metadata": {},
   "outputs": [
    {
     "data": {
      "text/plain": [
       "(0.0034937377831510495, 0.0034937377831510503)"
      ]
     },
     "execution_count": 32,
     "metadata": {},
     "output_type": "execute_result"
    }
   ],
   "source": [
    "p1(x),p2(x)\n",
    "# Unbalanced: (0.003623650493667255, 0.0036285073657495726)"
   ]
  },
  {
   "cell_type": "markdown",
   "id": "baba0724-82fd-4cff-a1a8-47a799497bb9",
   "metadata": {
    "jp-MarkdownHeadingCollapsed": true
   },
   "source": [
    "### Meurer BJMM four levels"
   ]
  },
  {
   "cell_type": "code",
   "execution_count": null,
   "id": "93636398-6441-4030-975e-e247b210f1fa",
   "metadata": {},
   "outputs": [
    {
     "name": "stderr",
     "output_type": "stream",
     "text": [
      "C:\\Users\\freja\\AppData\\Local\\Temp\\ipykernel_12168\\1409435978.py:26: DeprecationWarning: Conversion of an array with ndim > 0 to a scalar is deprecated, and will error in future. Ensure you extract a single element from your array before performing this operation. (Deprecated NumPy 1.25.)\n",
      "  return fsolve(lambda x:v -(x*log(q-1,q)-x*log(x,q)-(1-x)*log(1-x,q)),0.0000001)[0]\n"
     ]
    }
   ],
   "source": [
    "set_vars = collections.namedtuple('Our', 'p d1 d2 d3 ell i1 i2 i3')\n",
    "def our(f) : return wrap(f, set_vars)\n",
    "k = 0.3\n",
    "q = 5\n",
    "w = Hqi(1-k,q)\n",
    "\n",
    "perms = lambda x: binomH(1., w) - binomH(k+x.ell, x.p) - binomH(1-k-x.ell, w-x.p)\n",
    "\n",
    "p3 = lambda x: x.p/2+x.d3\n",
    "p2 = lambda x: p3(x)/2+x.d2\n",
    "p1 = lambda x: p2(x)/2+x.d1\n",
    "r1 = lambda x: binomH(p2(x)-2*x.i1,p2(x)/2 - x.i1) + binomH(p2(x),2*x.i1) + 2*x.i1*log2(q-2) + binomH(k+x.ell-p2(x),x.d1-x.i1) + (x.d1-x.i1)*log2(q-1)\n",
    "r2 = lambda x: binomH(p3(x)-2*x.i2,p3(x)/2 - x.i2) + binomH(p3(x),2*x.i2) + 2*x.i2*log2(q-2) + binomH(k+x.ell-p3(x),x.d2-x.i2) + (x.d2-x.i2)*log2(q-1)\n",
    "r3 = lambda x: binomH(x.p  -2*x.i3,x.p  /2 - x.i3) + binomH(x.p  ,2*x.i3) + 2*x.i3*log2(q-2) + binomH(k+x.ell-x.p  ,x.d3-x.i3) + (x.d3-x.i3)*log2(q-1)\n",
    "L0 = lambda x: binomH((k+x.ell)/2,p1(x)/2)+ (p1(x)/2)*log2(q-1)\n",
    "L1 = lambda x: 2*L0(x) - r1(x)\n",
    "L2 = lambda x: binomH(k+x.ell , p2(x))+log2(q-1)*p2(x) - r2(x)\n",
    "L3 = lambda x: binomH(k+x.ell , p3(x))+log2(q-1)*p3(x) - r3(x)\n",
    "T2 = lambda x: 2*L1(x) - (r2(x)-r1(x))\n",
    "T3 = lambda x: 2*L2(x) - (r3(x)-r2(x))\n",
    "T4 = lambda x: 2*L3(x) - (log2(q)*x.ell-r3(x))\n",
    "\n",
    "constraints = [\n",
    "    { 'type' : 'ineq',   'fun' : our(lambda x : k + x.ell - x.p - x.d3)},\n",
    "    { 'type' : 'ineq',   'fun' : our(lambda x : k + x.ell - p3(x) - x.d2)},\n",
    "    { 'type' : 'ineq',   'fun' : our(lambda x : k + x.ell - p2(x) - x.d1)},\n",
    "    { 'type' : 'ineq',   'fun' : our(lambda x : 1-k-x.ell - (w-x.p))},\n",
    "    { 'type' : 'ineq',   'fun' : our(lambda x : 1-k-x.ell)},\n",
    "    { 'type' : 'ineq',   'fun' : our(lambda x : w-x.p)},\n",
    "    { 'type' : 'ineq',   'fun' : our(lambda x : x.p/2   - x.i3)},\n",
    "    { 'type' : 'ineq',   'fun' : our(lambda x : p3(x)/2 - x.i2)},\n",
    "    { 'type' : 'ineq',   'fun' : our(lambda x : p2(x)/2 - x.i1)},\n",
    "    { 'type' : 'ineq',   'fun' : our(lambda x : x.d3-x.i3)},\n",
    "    { 'type' : 'ineq',   'fun' : our(lambda x : x.d2-x.i2)},\n",
    "    { 'type' : 'ineq',   'fun' : our(lambda x : x.d1-x.i1)},\n",
    "    { 'type' : 'ineq',   'fun' : our(lambda x : r2(x)-r1(x))},\n",
    "    { 'type' : 'ineq',   'fun' : our(lambda x : r3(x)-r2(x))},\n",
    "    { 'type' : 'ineq',   'fun' : our(lambda x : log2(q)*x.ell-r3(x))}\n",
    "]\n",
    "\n",
    "def memory(x):\n",
    "    return max(L0(x),L1(x),L2(x),L3(x))\n",
    "\n",
    "def time(x):\n",
    "    x = set_vars(*x)  \n",
    "    return perms(x) + max(L0(x),L1(x),L2(x),L3(x),T2(x),T3(x),T4(x))\n",
    "\n",
    "def optimize(verb=False):\n",
    "    variables = 8\n",
    "    start = r(0,0.008,variables)\n",
    "    bounds = [(0, 1)]*variables\n",
    "    \n",
    "    result = opt.minimize(time, start, \n",
    "            bounds= bounds, tol=1e-10, \n",
    "            constraints=constraints, options={'maxiter':1000})\n",
    "    astuple = set_vars(*result.x) \n",
    "    x = set_vars(*result.x)    \n",
    "    return result\n",
    "\n",
    "def iterate_optimizer(iterations):\n",
    "    mini=100\n",
    "    for i in range(iterations):\n",
    "        x=optimize()\n",
    "        if x.success and x.fun<mini:\n",
    "            mini=x.fun\n",
    "            result = x\n",
    "    return result"
   ]
  },
  {
   "cell_type": "code",
   "execution_count": null,
   "id": "0a721b34-ca5a-49bc-bea8-e48873b0f8eb",
   "metadata": {},
   "outputs": [],
   "source": [
    "res=iterate_optimizer(200)"
   ]
  },
  {
   "cell_type": "code",
   "execution_count": null,
   "id": "eed84b04-3b2d-499e-803a-030c47150ac7",
   "metadata": {},
   "outputs": [
    {
     "data": {
      "text/plain": [
       "0.21431746222777395"
      ]
     },
     "execution_count": 17,
     "metadata": {},
     "output_type": "execute_result"
    }
   ],
   "source": [
    "x=set_vars( *res.x)\n",
    "res.fun"
   ]
  },
  {
   "cell_type": "code",
   "execution_count": null,
   "id": "b973d87b-3173-4881-a4b4-398ebe74625b",
   "metadata": {},
   "outputs": [
    {
     "data": {
      "text/plain": [
       "0.06896712450853508"
      ]
     },
     "execution_count": 18,
     "metadata": {},
     "output_type": "execute_result"
    }
   ],
   "source": [
    "x.p"
   ]
  },
  {
   "cell_type": "code",
   "execution_count": null,
   "id": "26c7d8fc-f8d2-4a8e-b692-f8c16847f7ae",
   "metadata": {},
   "outputs": [
    {
     "data": {
      "text/plain": [
       "(0.09230150696728211, 0.12321638272636745)"
      ]
     },
     "execution_count": 19,
     "metadata": {},
     "output_type": "execute_result"
    }
   ],
   "source": [
    "time(x)*log(2,q),memory(x)"
   ]
  },
  {
   "cell_type": "code",
   "execution_count": null,
   "id": "fcfe8faa-48d1-401d-a5ac-1e3aa62746f6",
   "metadata": {},
   "outputs": [
    {
     "data": {
      "text/plain": [
       "(0.054757159132078174,\n",
       " 0.07778249515904723,\n",
       " 0.12315440226379232,\n",
       " 0.12321638272636745,\n",
       " 0.12333788397258083,\n",
       " 0.12333909688324143,\n",
       " 0.12333905826670435)"
      ]
     },
     "execution_count": 20,
     "metadata": {},
     "output_type": "execute_result"
    }
   ],
   "source": [
    "L0(x),L1(x),L2(x),L3(x),T2(x),T3(x),T4(x)"
   ]
  },
  {
   "cell_type": "code",
   "execution_count": null,
   "id": "6d2e5a3e-6c83-4cc8-b65a-76f3074b9848",
   "metadata": {},
   "outputs": [
    {
     "data": {
      "text/plain": [
       "(0.012895987960935898,\n",
       " 0.024868105928600878,\n",
       " 0.04729841480830065,\n",
       " 0.06896712450853508)"
      ]
     },
     "execution_count": 21,
     "metadata": {},
     "output_type": "execute_result"
    }
   ],
   "source": [
    "p1(x),p2(x),p3(x),x.p"
   ]
  },
  {
   "cell_type": "code",
   "execution_count": null,
   "id": "bba107ef-3ab5-45a9-96e5-cec372fd6fb5",
   "metadata": {},
   "outputs": [
    {
     "data": {
      "text/plain": [
       "(0.0004619349966354591, 0.0012188985244505528, 0.012814852554033113)"
      ]
     },
     "execution_count": 22,
     "metadata": {},
     "output_type": "execute_result"
    }
   ],
   "source": [
    "x.d1,x.d2,x.d3"
   ]
  },
  {
   "cell_type": "code",
   "execution_count": null,
   "id": "f0e38096-5f61-44ba-be10-a2b3f229f8cc",
   "metadata": {},
   "outputs": [
    {
     "data": {
      "text/plain": [
       "0.13351935616078406"
      ]
     },
     "execution_count": 23,
     "metadata": {},
     "output_type": "execute_result"
    }
   ],
   "source": [
    "x.ell"
   ]
  },
  {
   "cell_type": "code",
   "execution_count": null,
   "id": "ac3b3979-05cc-4900-b236-61fd04b309a3",
   "metadata": {},
   "outputs": [
    {
     "data": {
      "text/plain": [
       "(0.0003991184486481427, 0.0010644419071350005, 0.0018263770622165517)"
      ]
     },
     "execution_count": 98,
     "metadata": {},
     "output_type": "execute_result"
    }
   ],
   "source": [
    "x.i1,x.i2,x.i3"
   ]
  },
  {
   "cell_type": "markdown",
   "id": "ffe33e90-652c-420b-96be-454b4613523c",
   "metadata": {},
   "source": [
    "### Meurer BJMM 3 levels"
   ]
  },
  {
   "cell_type": "code",
   "execution_count": null,
   "id": "bd8a4c16-0f13-40ee-aaba-f97f27a9d541",
   "metadata": {},
   "outputs": [
    {
     "name": "stderr",
     "output_type": "stream",
     "text": [
      "C:\\Users\\freja\\AppData\\Local\\Temp\\ipykernel_8076\\1409435978.py:26: DeprecationWarning: Conversion of an array with ndim > 0 to a scalar is deprecated, and will error in future. Ensure you extract a single element from your array before performing this operation. (Deprecated NumPy 1.25.)\n",
      "  return fsolve(lambda x:v -(x*log(q-1,q)-x*log(x,q)-(1-x)*log(1-x,q)),0.0000001)[0]\n"
     ]
    }
   ],
   "source": [
    "set_vars = collections.namedtuple('Our', 'p ell d1 d2 i1 i2')\n",
    "def our(f) : return wrap(f, set_vars)\n",
    "k = 0.5\n",
    "q = 50\n",
    "w = Hqi(1-k,q)\n",
    "\n",
    "perms = lambda x: binomH(1., w) - binomH(k+x.ell, x.p) - binomH(1-k-x.ell, w-x.p)\n",
    "\n",
    "p2 = lambda x: x.p/2+x.d2\n",
    "p1 = lambda x: p2(x)/2+x.d1\n",
    "r1 = lambda x: binomH(p2(x)-2*x.i1,p2(x)/2 - x.i1) + binomH(p2(x),2*x.i1) + 2*x.i1*log2(q-2) + binomH(k+x.ell-p2(x),x.d1-x.i1) + (x.d1-x.i1)*log2(q-1)\n",
    "r2 = lambda x: binomH(x.p  -2*x.i2,x.p/2   - x.i2) + binomH(x.p  ,2*x.i2) + 2*x.i2*log2(q-2) + binomH(k+x.ell-x.p  ,x.d2-x.i2) + (x.d2-x.i2)*log2(q-1)\n",
    "L0 = lambda x: binomH((k+x.ell)/2,p1(x)/2)+ (p1(x)/2)*log2(q-1)\n",
    "L1 = lambda x: 2*L0(x) - r1(x)\n",
    "L2 = lambda x: binomH(k+x.ell , p2(x)) + log2(q-1)*p2(x) - r2(x)\n",
    "T2 = lambda x: 2*L1(x) - (r2(x)-r1(x))\n",
    "T3 = lambda x: 2*L2(x) - (log2(q)*x.ell-r2(x))\n",
    "\n",
    "constraints = [\n",
    "    { 'type' : 'ineq',   'fun' : our(lambda x : k + x.ell - x.p   - x.d2)},\n",
    "    #{ 'type' : 'ineq',   'fun' : our(lambda x : 0.01 - memory(x))},\n",
    "    { 'type' : 'ineq',   'fun' : our(lambda x : k + x.ell - p2(x) - x.d1)},\n",
    "    { 'type' : 'ineq',   'fun' : our(lambda x : 1-k-x.ell - (w-x.p))},\n",
    "    { 'type' : 'ineq',   'fun' : our(lambda x : 1-k-x.ell)},\n",
    "    { 'type' : 'ineq',   'fun' : our(lambda x : w-x.p)},\n",
    "    { 'type' : 'ineq',   'fun' : our(lambda x : x.p/2   - x.i2)},\n",
    "    { 'type' : 'ineq',   'fun' : our(lambda x : p2(x)/2 - x.i1)},\n",
    "    { 'type' : 'ineq',   'fun' : our(lambda x : x.d2-x.i2)},\n",
    "    { 'type' : 'ineq',   'fun' : our(lambda x : x.d1-x.i1)},\n",
    "    { 'type' : 'ineq',   'fun' : our(lambda x : r2(x)-r1(x))},\n",
    "    { 'type' : 'ineq',   'fun' : our(lambda x : log2(q)*x.ell-r2(x))}    \n",
    "]\n",
    "\n",
    "def memory(x):\n",
    "    return max(L0(x),L1(x),L2(x))\n",
    "\n",
    "def time(x):\n",
    "    x = set_vars(*x)  \n",
    "    return perms(x) + max(L0(x),L1(x),L2(x),T2(x),T3(x))\n",
    "\n",
    "def optimize(verb=False, cons=constraints):\n",
    "    variables = 6\n",
    "    start = r(0,0.1,variables)\n",
    "    bounds = [(0, 1)]*2+[(0, 0.1)]*(variables-2)\n",
    "\n",
    "    result = opt.minimize(time, start, \n",
    "            bounds= bounds, tol=1e-7, \n",
    "            constraints=cons, options={'maxiter':1000})\n",
    "    astuple = set_vars(*result.x) \n",
    "    x = set_vars(*result.x)    \n",
    "    return result\n",
    "\n",
    "def iterate_optimizer(iterations,cons=constraints):\n",
    "    mini=10000\n",
    "    for i in range(iterations):\n",
    "        x=optimize(cons=cons)\n",
    "        if x.success and x.fun<mini:\n",
    "            mini=x.fun\n",
    "            result = x\n",
    "    return result\n",
    "\n",
    "def optimize_mem_constrain(iterations,mem,verb=False):\n",
    "    constraints_mem = constraints + [{ 'type' : 'ineq',   'fun' : our(lambda x : mem - memory(x))}]\n",
    "    return iterate_optimizer(iterations,cons=constraints_mem)\n",
    "\n",
    "def iterate_optimizer_mem(iterations,mem):\n",
    "    mini=10000\n",
    "    for i in range(iterations):\n",
    "        x=optimize_mem_constrain(mem)\n",
    "        if x.success and x.fun<mini:\n",
    "            mini=x.fun\n",
    "            result = x\n",
    "    return result"
   ]
  },
  {
   "cell_type": "code",
   "execution_count": null,
   "id": "84e65ee9-333c-4f37-9110-67ff6969a178",
   "metadata": {},
   "outputs": [
    {
     "data": {
      "text/plain": [
       "0.46384578657296993"
      ]
     },
     "execution_count": 370,
     "metadata": {},
     "output_type": "execute_result"
    }
   ],
   "source": [
    "res=iterate_optimizer(300)\n",
    "x=set_vars( *res.x)\n",
    "res.fun"
   ]
  },
  {
   "cell_type": "code",
   "execution_count": null,
   "id": "1e333004-dd68-4145-9acd-c1019cd7b547",
   "metadata": {},
   "outputs": [
    {
     "name": "stdout",
     "output_type": "stream",
     "text": [
      "Prange 0.46894285119697365\n"
     ]
    }
   ],
   "source": [
    "print(\"Prange\", binomH(1., w) -  binomH(1-k, w))"
   ]
  },
  {
   "cell_type": "code",
   "execution_count": null,
   "id": "b1611454-54ba-489d-82cc-7d7e17279133",
   "metadata": {},
   "outputs": [
    {
     "data": {
      "text/plain": [
       "(0.0821859684187815, 0.10904215715751042)"
      ]
     },
     "execution_count": 372,
     "metadata": {},
     "output_type": "execute_result"
    }
   ],
   "source": [
    "time(x)*log(2,q),memory(x)"
   ]
  },
  {
   "cell_type": "code",
   "execution_count": null,
   "id": "353ecd22-6838-485b-9d8a-57493aeace81",
   "metadata": {},
   "outputs": [
    {
     "data": {
      "text/plain": [
       "(0.05728717973130746,\n",
       " 0.0969090362020123,\n",
       " 0.10904215715751042,\n",
       " 0.10925436648988447,\n",
       " 0.10919418813955586)"
      ]
     },
     "execution_count": 373,
     "metadata": {},
     "output_type": "execute_result"
    }
   ],
   "source": [
    "L0(x),L1(x),L2(x),T2(x),T3(x)"
   ]
  },
  {
   "cell_type": "code",
   "execution_count": null,
   "id": "8bb6242d-1193-4cd6-884d-e8f95fb7bb5f",
   "metadata": {},
   "outputs": [],
   "source": [
    "l0 = r1(x)/log2(q)\n",
    "l1 = r2(x)/log2(q)"
   ]
  },
  {
   "cell_type": "code",
   "execution_count": null,
   "id": "f72eabd2-adac-490e-88f9-a1dec94116f6",
   "metadata": {},
   "outputs": [
    {
     "name": "stdout",
     "output_type": "stream",
     "text": [
      "alternative level 1 3.1949945935376625\n",
      "0.003130009459243102 0.008832019203989518\n",
      "alternative level 2 0.10905648246637106\n",
      "0.018113329917930323 0.017663983306525285\n"
     ]
    }
   ],
   "source": [
    "print(\"alternative level 1\", binomH(k+x.ell, p1(x))-binomH(l0,p1(x)))\n",
    "print(l0,p1(x))\n",
    "print(\"alternative level 2\", binomH(k+x.ell, p2(x))-binomH(l1,p2(x)))\n",
    "print(l1,p2(x))\n"
   ]
  },
  {
   "cell_type": "code",
   "execution_count": null,
   "id": "5c53f1f7-7f0f-43fc-8a42-4ca34372675b",
   "metadata": {},
   "outputs": [
    {
     "data": {
      "text/plain": [
       "(0.037406898448742114, 0.025514750225075176)"
      ]
     },
     "execution_count": 376,
     "metadata": {},
     "output_type": "execute_result"
    }
   ],
   "source": [
    "x.ell,x.p"
   ]
  },
  {
   "cell_type": "code",
   "execution_count": null,
   "id": "3a697a85-a7cc-4e79-b091-9eb8522b9fcf",
   "metadata": {},
   "outputs": [
    {
     "data": {
      "text/plain": [
       "(0.0023911621462081056,\n",
       " 0.012373767001850985,\n",
       " 0.0005532628247648863,\n",
       " 0.0028630200989434714)"
      ]
     },
     "execution_count": 300,
     "metadata": {},
     "output_type": "execute_result"
    }
   ],
   "source": [
    "r1(x),r2(x), r1(x)/log2(q),r2(x)/log2(q)"
   ]
  },
  {
   "cell_type": "code",
   "execution_count": null,
   "id": "304f7227-6c64-4a7f-9109-7402a3af52aa",
   "metadata": {},
   "outputs": [
    {
     "data": {
      "text/plain": [
       "(0.0009974638142605165, 0.0019527700486648674, 0.002437193851785201)"
      ]
     },
     "execution_count": 301,
     "metadata": {},
     "output_type": "execute_result"
    }
   ],
   "source": [
    "p1(x),p2(x), x.p"
   ]
  },
  {
   "cell_type": "code",
   "execution_count": null,
   "id": "eca24306-ed7e-4378-847d-45b9234f26c4",
   "metadata": {},
   "outputs": [
    {
     "data": {
      "text/plain": [
       "(2.107878992808274e-05, 0.000734173122772267)"
      ]
     },
     "execution_count": 302,
     "metadata": {},
     "output_type": "execute_result"
    }
   ],
   "source": [
    "x.d1,x.d2"
   ]
  },
  {
   "cell_type": "code",
   "execution_count": null,
   "id": "f1748087-81a0-4098-9887-3a564ab4006e",
   "metadata": {},
   "outputs": [
    {
     "name": "stderr",
     "output_type": "stream",
     "text": [
      "C:\\Users\\freja\\AppData\\Local\\Temp\\ipykernel_8076\\1409435978.py:26: DeprecationWarning: Conversion of an array with ndim > 0 to a scalar is deprecated, and will error in future. Ensure you extract a single element from your array before performing this operation. (Deprecated NumPy 1.25.)\n",
      "  return fsolve(lambda x:v -(x*log(q-1,q)-x*log(x,q)-(1-x)*log(1-x,q)),0.0000001)[0]\n"
     ]
    },
    {
     "name": "stdout",
     "output_type": "stream",
     "text": [
      "0.05\n",
      "0.1\n",
      "0.15000000000000002\n",
      "0.2\n",
      "0.25\n",
      "0.3\n",
      "0.35000000000000003\n",
      "0.4\n",
      "0.45\n",
      "0.5\n",
      "0.55\n",
      "0.6000000000000001\n",
      "0.6500000000000001\n",
      "0.7000000000000001\n",
      "0.7500000000000001\n",
      "0.8\n",
      "0.8500000000000001\n",
      "0.9000000000000001\n",
      "0.9500000000000001\n"
     ]
    }
   ],
   "source": [
    "q = 50\n",
    "ks = np.arange(0.05,1,0.05)\n",
    "p1s = []\n",
    "p2s = []\n",
    "l1s = []\n",
    "l2s = []\n",
    "for k in ks:\n",
    "    w = Hqi(1-k,q)\n",
    "    res=iterate_optimizer(300)\n",
    "    x=set_vars( *res.x)\n",
    "    p1s.append(p1(x))\n",
    "    p2s.append(p2(x))\n",
    "    l1s.append(r1(x)/log2(q))\n",
    "    l2s.append(r2(x)/log2(q))\n",
    "    print(k)"
   ]
  },
  {
   "cell_type": "code",
   "execution_count": null,
   "id": "b07f1a31-2527-44c1-9422-222bb8c61d38",
   "metadata": {},
   "outputs": [
    {
     "name": "stderr",
     "output_type": "stream",
     "text": [
      "C:\\Users\\freja\\AppData\\Local\\Temp\\ipykernel_8076\\1409435978.py:26: DeprecationWarning: Conversion of an array with ndim > 0 to a scalar is deprecated, and will error in future. Ensure you extract a single element from your array before performing this operation. (Deprecated NumPy 1.25.)\n",
      "  return fsolve(lambda x:v -(x*log(q-1,q)-x*log(x,q)-(1-x)*log(1-x,q)),0.0000001)[0]\n"
     ]
    },
    {
     "name": "stdout",
     "output_type": "stream",
     "text": [
      "3\n",
      "5\n",
      "10\n",
      "30\n",
      "50\n",
      "100\n",
      "200\n",
      "500\n",
      "1000\n"
     ]
    }
   ],
   "source": [
    "qs = [3,5,10,30,50,100,200,500,1000]\n",
    "k = 0.5\n",
    "p1qs = []\n",
    "p2qs = []\n",
    "l1qs = []\n",
    "l2qs = []\n",
    "for q in qs:\n",
    "    w = Hqi(1-k,q)\n",
    "    res=iterate_optimizer(100)\n",
    "    x=set_vars( *res.x)\n",
    "    p1qs.append(p1(x))\n",
    "    p2qs.append(p2(x))\n",
    "    l1qs.append(r1(x)/log2(q))\n",
    "    l2qs.append(r2(x)/log2(q))\n",
    "    print(q)"
   ]
  },
  {
   "cell_type": "code",
   "execution_count": null,
   "id": "12169179-05b1-4c7a-8b21-9a2ed2b576f5",
   "metadata": {},
   "outputs": [
    {
     "name": "stdout",
     "output_type": "stream",
     "text": [
      "0.08819438666125733\n",
      "0.0884229431219137\n",
      "0.08633968237851579\n",
      "0.08562776975832147\n",
      "0.08500070564037576\n",
      "0.08438257206263591\n",
      "0.08385990406494173\n",
      "0.0834100108465318\n",
      "0.08311757252500691\n"
     ]
    }
   ],
   "source": [
    "for i in range(1,10):\n",
    "    mem=i*0.005\n",
    "    res=optimize_mem_constrain(300,mem)\n",
    "    x=set_vars( *res.x)\n",
    "    print(res.fun)"
   ]
  },
  {
   "cell_type": "markdown",
   "id": "08183f96",
   "metadata": {},
   "source": [
    "### Basefield BJMM 2 levels"
   ]
  },
  {
   "cell_type": "code",
   "execution_count": 78,
   "id": "69d51027",
   "metadata": {},
   "outputs": [
    {
     "name": "stderr",
     "output_type": "stream",
     "text": [
      "C:\\Users\\freja\\AppData\\Local\\Temp\\ipykernel_12920\\483796357.py:27: DeprecationWarning: Conversion of an array with ndim > 0 to a scalar is deprecated, and will error in future. Ensure you extract a single element from your array before performing this operation. (Deprecated NumPy 1.25.)\n",
      "  return fsolve(lambda x:v -(x*log(q-1,q)-x*log(x,q)-(1-x)*log(1-x,q)),0.0000001)[0]\n"
     ]
    }
   ],
   "source": [
    "set_vars = collections.namedtuple('Our', 'p ell e1 a1 g1 d1')\n",
    "def our(f) : return wrap(f, set_vars)\n",
    "k = 0.5\n",
    "m = 12\n",
    "q = 2**m\n",
    "w = Hqi(1-k,q)\n",
    "\n",
    "perms = lambda x: binomH(1., w) - binomH(k+x.ell, x.p) - binomH(1-k-x.ell, w-x.p)\n",
    "prob = lambda x: x.p*(log2(binom(m,m/2))-log2(q-1))\n",
    "\n",
    "p1 = lambda x: x.p/2 + x.e1\n",
    "r1 = lambda x: binomH(k-x.ell-x.p,x.g1) + x.g1*log2(binom(m,m*x.a1)) + multiH(x.p,[x.p/2 - x.e1, 2*x.e1]) + 2*x.e1*log2(binom(m/2,m*x.d1-m/4)) + 2*x.e1*log2(binom(m/2,m/4))\n",
    "L0 = lambda x: multiH((k+x.ell)/2,[p1(x)/2,x.g1/2]) + p1(x)/2*log2(binom(m,m*x.d1)) + x.g1/2*log2(binom(m,m*x.a1))\n",
    "L1 = lambda x: 2*L0(x) - r1(x)\n",
    "T2 = lambda x: 2*L1(x) - (m*x.ell-r1(x))\n",
    "\n",
    "constraints = [\n",
    "    { 'type' : 'ineq',   'fun' : our(lambda x : k + x.ell - x.p - x.g1)},\n",
    "    { 'type' : 'ineq',   'fun' : our(lambda x : 1-k-x.ell- (w-x.p))},\n",
    "    { 'type' : 'ineq',   'fun' : our(lambda x : 1-k-x.ell)},\n",
    "    { 'type' : 'ineq',   'fun' : our(lambda x : w-x.p)},\n",
    "    { 'type' : 'ineq',   'fun' : our(lambda x : x.p/2-x.e1)},\n",
    "    { 'type' : 'ineq',   'fun' : our(lambda x : x.ell*m-r1(x))}\n",
    "]\n",
    "\n",
    "def memory(x):\n",
    "    return max(L0(x),L1(x))\n",
    "\n",
    "def time(x):\n",
    "    x = set_vars(*x)  \n",
    "    return perms(x) - prob(x) + max(L0(x),L1(x),T2(x))\n",
    "\n",
    "def optimize(verb=False):\n",
    "    variables=6\n",
    "    start = r(0,0.008,variables)\n",
    "    bounds = [(0, 1)]*5 + [(1/4,3/4)]\n",
    "    \n",
    "    result = opt.minimize(time, start, \n",
    "            bounds= bounds, tol=1e-10, \n",
    "            constraints=constraints, options={'maxiter':1000})\n",
    "    astuple = set_vars(*result.x) \n",
    "    x = set_vars(*result.x)    \n",
    "    return result\n",
    "\n",
    "def iterate_optimizer(iterations):\n",
    "    mini=100\n",
    "    for i in range(iterations):\n",
    "        x=optimize()\n",
    "        if x.success and x.fun<mini:\n",
    "            mini=x.fun\n",
    "            result = x\n",
    "    return result\n"
   ]
  },
  {
   "cell_type": "code",
   "execution_count": 79,
   "id": "3b9ed7ec",
   "metadata": {},
   "outputs": [
    {
     "data": {
      "text/plain": [
       "0.6592534293502259"
      ]
     },
     "execution_count": 79,
     "metadata": {},
     "output_type": "execute_result"
    }
   ],
   "source": [
    "res=iterate_optimizer(100)\n",
    "x=set_vars( *res.x)\n",
    "res.fun"
   ]
  },
  {
   "cell_type": "code",
   "execution_count": 64,
   "id": "803b2cd6",
   "metadata": {},
   "outputs": [
    {
     "data": {
      "text/plain": [
       "(0.00734529395853859,\n",
       " 0.004165177622354525,\n",
       " 0.0073452937791968955,\n",
       " 0.6075323524404707,\n",
       " -0.0018841346418690364,\n",
       " 0.000985061286170459)"
      ]
     },
     "execution_count": 64,
     "metadata": {},
     "output_type": "execute_result"
    }
   ],
   "source": [
    "L1(x),L0(x),T2(x),perms(x), prob(x), r1(x)"
   ]
  },
  {
   "cell_type": "code",
   "execution_count": 65,
   "id": "daefd3a3",
   "metadata": {},
   "outputs": [
    {
     "data": {
      "text/plain": [
       "(0.0009321351845980456, 0.0004683589772559862)"
      ]
     },
     "execution_count": 65,
     "metadata": {},
     "output_type": "execute_result"
    }
   ],
   "source": [
    "x.p, p1(x),"
   ]
  },
  {
   "cell_type": "code",
   "execution_count": 66,
   "id": "93fd43f1",
   "metadata": {},
   "outputs": [
    {
     "data": {
      "text/plain": [
       "(0.0008330355424050743,\n",
       " 2.291384956963429e-06,\n",
       " 0.021648319400936276,\n",
       " 1.2242083391055924e-13,\n",
       " 0.25000000000000044)"
      ]
     },
     "execution_count": 66,
     "metadata": {},
     "output_type": "execute_result"
    }
   ],
   "source": [
    "x.ell, x.e1, x.a1, x.g1, x.d1"
   ]
  },
  {
   "cell_type": "code",
   "execution_count": 67,
   "id": "0b4964c3",
   "metadata": {},
   "outputs": [
    {
     "data": {
      "text/plain": [
       "0.0010151039388674005"
      ]
     },
     "execution_count": 67,
     "metadata": {},
     "output_type": "execute_result"
    }
   ],
   "source": [
    "i = x.e1\n",
    "d = x.e1+x.g1\n",
    "mr1 = lambda x: binomH(x.p-2*i,x.p/2 - i) + binomH(x.p,2*i) + 2*i*log2(q-2) + binomH(k+x.ell-x.p,d-i) + (d-i)*log2(q-1)\n",
    "mr1(x)"
   ]
  },
  {
   "cell_type": "code",
   "execution_count": null,
   "id": "9a1e0b67",
   "metadata": {},
   "outputs": [],
   "source": []
  },
  {
   "cell_type": "markdown",
   "id": "ffd70e1e",
   "metadata": {},
   "source": [
    "### Basefield BJMM integer"
   ]
  },
  {
   "cell_type": "code",
   "execution_count": 86,
   "id": "cda64445",
   "metadata": {},
   "outputs": [
    {
     "name": "stderr",
     "output_type": "stream",
     "text": [
      "C:\\Users\\freja\\AppData\\Local\\Temp\\ipykernel_12920\\483796357.py:27: DeprecationWarning: Conversion of an array with ndim > 0 to a scalar is deprecated, and will error in future. Ensure you extract a single element from your array before performing this operation. (Deprecated NumPy 1.25.)\n",
      "  return fsolve(lambda x:v -(x*log(q-1,q)-x*log(x,q)-(1-x)*log(1-x,q)),0.0000001)[0]\n"
     ]
    }
   ],
   "source": [
    "set_vars = collections.namedtuple('Our', 'p ell e1')\n",
    "def our(f) : return wrap(f, set_vars)\n",
    "k = 0.5\n",
    "m = 12\n",
    "q = 2**m\n",
    "w = Hqi(1-k,q)\n",
    "\n",
    "perms = lambda x: binomH(1., w) - binomH(k+x.ell, x.p) - binomH(1-k-x.ell, w-x.p)\n",
    "prob = lambda x: x.p*(log2(sum([binom(m,i) for i in range(m//2-s , m//2+s+1,2)]))-log2(q-1))\n",
    "\n",
    "p1 = lambda x: x.p/2 + x.e1\n",
    "r1 = lambda x: multiH(x.p,[x.p/2 - x.e1, 2*x.e1]) + 2*x.e1*min([log2(binom(m-j,d1-j/2)) + log2(binom(j,j/2)) for j in range(m//2-s , m//2+s+1,2)])\n",
    "L0 = lambda x: binomH((k+x.ell)/2,p1(x)/2) + p1(x)/2*log2(binom(m,d1))\n",
    "L1 = lambda x: 2*L0(x) - r1(x)\n",
    "T2 = lambda x: 2*L1(x) - (m*x.ell-r1(x))\n",
    "\n",
    "constraints = [\n",
    "    { 'type' : 'ineq',   'fun' : our(lambda x : k + x.ell - x.p)},\n",
    "    { 'type' : 'ineq',   'fun' : our(lambda x : 1-k-x.ell- (w-x.p))},\n",
    "    { 'type' : 'ineq',   'fun' : our(lambda x : 1-k-x.ell)},\n",
    "    { 'type' : 'ineq',   'fun' : our(lambda x : w-x.p)},\n",
    "    { 'type' : 'ineq',   'fun' : our(lambda x : x.p/2-x.e1)},\n",
    "    { 'type' : 'ineq',   'fun' : our(lambda x : x.ell*m-r1(x))}\n",
    "]\n",
    "\n",
    "def memory(x):\n",
    "    return max(L0(x),L1(x))\n",
    "\n",
    "def time(x):\n",
    "    x = set_vars(*x)  \n",
    "    return perms(x) - prob(x) + max(L0(x),L1(x),T2(x))\n",
    "\n",
    "def optimize(verb=False):\n",
    "    variables=3\n",
    "    start = r(0,0.008,variables)\n",
    "    bounds = [(0, 1)]*variables\n",
    "    \n",
    "    result = opt.minimize(time, start, \n",
    "            bounds= bounds, tol=1e-10, \n",
    "            constraints=constraints, options={'maxiter':1000})\n",
    "    astuple = set_vars(*result.x) \n",
    "    x = set_vars(*result.x)    \n",
    "    return result\n",
    "\n",
    "def iterate_optimizer(iterations):\n",
    "    mini=100\n",
    "    for i in range(iterations):\n",
    "        x=optimize()\n",
    "        if x.success and x.fun<mini:\n",
    "            mini=x.fun\n",
    "            result = x\n",
    "    return result\n"
   ]
  },
  {
   "cell_type": "code",
   "execution_count": 87,
   "id": "6732fc01",
   "metadata": {},
   "outputs": [
    {
     "name": "stdout",
     "output_type": "stream",
     "text": [
      "0 3 0.6592534540437341\n",
      "0 4 0.6593859809615626\n",
      "0 5 0.6594132694835149\n",
      "0 6 0.6594186864649992\n",
      "0 7 0.6594132716629102\n",
      "0 8 0.6593859828720547\n",
      "0 9 0.6592534301780778\n",
      "2 4 0.6590961900978731\n",
      "2 5 0.6592702280508627\n",
      "2 6 0.6593054066552239\n",
      "2 7 0.6592702355378691\n",
      "2 8 0.6590961958532316\n",
      "4 5 0.6592389371490139\n",
      "4 6 0.6592797327270722\n",
      "4 7 0.6592389426459959\n"
     ]
    }
   ],
   "source": [
    "6592534293502259\n",
    "\n",
    "for s in range(0,math.floor(m/2),2):\n",
    "    for d1 in range(math.ceil(m/4+s/2),1+math.floor(3*m/4-s/2)):\n",
    "        res=iterate_optimizer(100)\n",
    "        x=set_vars( *res.x)\n",
    "        print(s,d1,res.fun)"
   ]
  },
  {
   "cell_type": "code",
   "execution_count": null,
   "id": "22a596d8",
   "metadata": {},
   "outputs": [
    {
     "data": {
      "text/plain": [
       "(0.007412697270078684,\n",
       " 0.0042065901459030055,\n",
       " 0.007412500400272402,\n",
       " 0.6074457237623736,\n",
       " -0.0019034621060460698,\n",
       " 0.0010004830217273275)"
      ]
     },
     "metadata": {},
     "output_type": "display_data"
    }
   ],
   "source": [
    "L1(x),L0(x),T2(x),perms(x), prob(x), r1(x)"
   ]
  },
  {
   "cell_type": "code",
   "execution_count": null,
   "id": "1a7205be",
   "metadata": {},
   "outputs": [
    {
     "data": {
      "text/plain": [
       "(0.0009416970327739274, 0.00047342865559751765)"
      ]
     },
     "metadata": {},
     "output_type": "display_data"
    }
   ],
   "source": [
    "x.p, p1(x),"
   ]
  },
  {
   "cell_type": "code",
   "execution_count": null,
   "id": "76c3fa2b",
   "metadata": {},
   "outputs": [
    {
     "data": {
      "text/plain": [
       "(0.0008413377161612292,\n",
       " 2.5801392105539526e-06,\n",
       " 0.2220565068105126,\n",
       " 3.064541750765914e-14,\n",
       " 0.7499999999478197)"
      ]
     },
     "metadata": {},
     "output_type": "display_data"
    }
   ],
   "source": [
    "x.ell, x.e1, x.a1, x.g1, x.d1"
   ]
  },
  {
   "cell_type": "code",
   "execution_count": null,
   "id": "425f83e1",
   "metadata": {},
   "outputs": [
    {
     "data": {
      "text/plain": [
       "0.0010343115686764321"
      ]
     },
     "metadata": {},
     "output_type": "display_data"
    }
   ],
   "source": [
    "i = x.e1\n",
    "d = x.e1+x.g1\n",
    "mr1 = lambda x: binomH(x.p-2*i,x.p/2 - i) + binomH(x.p,2*i) + 2*i*log2(q-2) + binomH(k+x.ell-x.p,d-i) + (d-i)*log2(q-1)\n",
    "mr1(x)"
   ]
  },
  {
   "cell_type": "code",
   "execution_count": null,
   "id": "21e252a1",
   "metadata": {},
   "outputs": [],
   "source": []
  },
  {
   "cell_type": "markdown",
   "id": "0aa3e533-dfac-4c67-9aec-e9e6f8fc7c30",
   "metadata": {
    "jp-MarkdownHeadingCollapsed": true
   },
   "source": [
    "### Comparing different ways to construct sublists - linalg or BJMM 2 level"
   ]
  },
  {
   "cell_type": "code",
   "execution_count": null,
   "id": "af8d8345-d6bd-4997-bcda-b7e6c4aed2b9",
   "metadata": {},
   "outputs": [],
   "source": [
    "set_vars = collections.namedtuple('Our', 'd1 i1')\n",
    "def our(f) : return wrap(f, set_vars)\n",
    "\n",
    "\n",
    "\n",
    "p1 = lambda x: p/2+x.d1\n",
    "r1 = lambda x: binomH(p-2*x.i1,p/2 - x.i1) + binomH(p,2*x.i1) + 2*x.i1*log2(q-2) + binomH(k+ell-p,x.d1-x.i1) + (x.d1-x.i1)*log2(q-1)\n",
    "L0 = lambda x: binomH((k+ell)/2,p1(x)/2)+ (p1(x)/2)*log2(q-1)\n",
    "L1 = lambda x: 2*L0(x) - r1(x)\n",
    "T2 = lambda x: 2*L1(x) - (log2(q)*ell-r1(x))\n",
    "\n",
    "\n",
    "constraints = [\n",
    "\n",
    "    #{ 'type' : 'ineq',   'fun' : our(lambda x : 0.01 - memory(x))},\n",
    "    { 'type' : 'ineq',   'fun' : our(lambda x : k + ell - p - x.d1)},\n",
    "    { 'type' : 'ineq',   'fun' : our(lambda x : p/2 - x.i1)},\n",
    "    { 'type' : 'ineq',   'fun' : our(lambda x : x.d1-x.i1)},\n",
    "    { 'type' : 'ineq',   'fun' : our(lambda x : log2(q)*ell-r1(x))}    \n",
    "]\n",
    "\n",
    "def memory(x):\n",
    "    return max(L0(x),L1(x))\n",
    "\n",
    "def time(x):\n",
    "    x = set_vars(*x)  \n",
    "    return max(L0(x),L1(x),T2(x))\n",
    "\n",
    "def optimize(verb=False, cons=constraints):\n",
    "    variables = 2\n",
    "    start = r(0,0.1,variables)\n",
    "    bounds = [(0, 1)]*2+[(0, 0.1)]*(variables-2)\n",
    "\n",
    "    result = opt.minimize(time, start, \n",
    "            bounds= bounds, tol=1e-7, \n",
    "            constraints=cons, options={'maxiter':1000})\n",
    "    astuple = set_vars(*result.x) \n",
    "    x = set_vars(*result.x)    \n",
    "    return result\n",
    "\n",
    "def iterate_optimizer(iterations,cons=constraints):\n",
    "    mini=10000\n",
    "    for i in range(iterations):\n",
    "        x=optimize(cons=cons)\n",
    "        if x.success and x.fun<mini:\n",
    "            mini=x.fun\n",
    "            result = x\n",
    "    return result\n",
    "\n",
    "def optimize_mem_constrain(iterations,mem,verb=False):\n",
    "    constraints_mem = constraints + [{ 'type' : 'ineq',   'fun' : our(lambda x : mem - memory(x))}]\n",
    "    return iterate_optimizer(iterations,cons=constraints_mem)\n",
    "\n",
    "def iterate_optimizer_mem(iterations,mem):\n",
    "    mini=10000\n",
    "    for i in range(iterations):\n",
    "        x=optimize_mem_constrain(mem)\n",
    "        if x.success and x.fun<mini:\n",
    "            mini=x.fun\n",
    "            result = x\n",
    "    return result"
   ]
  },
  {
   "cell_type": "code",
   "execution_count": null,
   "id": "8a2f52cc-2591-46bd-b7c2-4d30aacdc64b",
   "metadata": {},
   "outputs": [
    {
     "data": {
      "text/plain": [
       "0.0424998939126803"
      ]
     },
     "execution_count": 49,
     "metadata": {},
     "output_type": "execute_result"
    }
   ],
   "source": [
    "res=iterate_optimizer(100)\n",
    "x=set_vars( *res.x)\n",
    "res.fun"
   ]
  },
  {
   "cell_type": "code",
   "execution_count": null,
   "id": "dced4755-791a-40b6-885a-81f9d0282509",
   "metadata": {},
   "outputs": [
    {
     "data": {
      "text/plain": [
       "(0.011935570308238365,\n",
       " 0.01872063883598255,\n",
       " 0.0316238764327144,\n",
       " 0.031640388390784646,\n",
       " 0.0424998939126803)"
      ]
     },
     "execution_count": 50,
     "metadata": {},
     "output_type": "execute_result"
    }
   ],
   "source": [
    "L0(x),L1(x),L2(x),T2(x),T3(x)"
   ]
  },
  {
   "cell_type": "code",
   "execution_count": null,
   "id": "ad5aead3-3ed7-4359-829f-1d4193f75f50",
   "metadata": {},
   "outputs": [
    {
     "data": {
      "text/plain": [
       "0.044199143780068686"
      ]
     },
     "execution_count": 51,
     "metadata": {},
     "output_type": "execute_result"
    }
   ],
   "source": [
    "binomH(k+ell,p)-binomH(ell,p)"
   ]
  },
  {
   "cell_type": "code",
   "execution_count": null,
   "id": "27c1a069-cbbc-438c-9284-4a0e2080a59d",
   "metadata": {},
   "outputs": [
    {
     "data": {
      "text/plain": [
       "0.04249989376564556"
      ]
     },
     "execution_count": 52,
     "metadata": {},
     "output_type": "execute_result"
    }
   ],
   "source": [
    "binomH(k+ell,p) + p*log2(q-1) - ell*log2(q)"
   ]
  },
  {
   "cell_type": "code",
   "execution_count": null,
   "id": "4b53782e-1150-4586-b66d-96068ed008e6",
   "metadata": {},
   "outputs": [],
   "source": [
    "q = 50\n",
    "BJMMs = []\n",
    "opts = []\n",
    "linalgs = []\n",
    "for i in range(19):\n",
    "    k = ks[i]\n",
    "    p = p2s[i]\n",
    "    ell = l2s[i]\n",
    "    res=iterate_optimizer(100)\n",
    "    x=set_vars( *res.x)\n",
    "    BJMMs.append(res.fun)\n",
    "    opts.append(binomH(k+ell,p) + p*log2(q-1) - ell*log2(q))\n",
    "    linalgs.append(binomH(k+ell,p)-binomH(ell,p))"
   ]
  },
  {
   "cell_type": "code",
   "execution_count": null,
   "id": "b3be99ea-a824-451c-84c3-6fbca6519841",
   "metadata": {},
   "outputs": [
    {
     "data": {
      "image/png": "[encoded data removed]",
      "text/plain": [
       "<Figure size 640x480 with 1 Axes>"
      ]
     },
     "metadata": {},
     "output_type": "display_data"
    }
   ],
   "source": [
    "plt.plot(ks,BJMMs, label = \"BJMM\")\n",
    "plt.plot(ks,opts, label = \"optimal\")\n",
    "plt.plot(ks,linalgs,label = \"linalg\")\n",
    "plt.legend()\n",
    "ax = plt.gca()\n",
    "#ax.set_xlim([xmin, xmax])\n",
    "ax.set_ylim([-0.1, 0.1])\n",
    "plt.show()"
   ]
  },
  {
   "cell_type": "code",
   "execution_count": null,
   "id": "c34ec506-c2ce-4bfc-95f1-f35297c82e00",
   "metadata": {},
   "outputs": [],
   "source": [
    "k = 0.5\n",
    "BJMMqs = []\n",
    "optqs = []\n",
    "linalgqs = []\n",
    "for i in range(len(qs)):\n",
    "    q = qs[i]\n",
    "    p = p2s[i]\n",
    "    ell = l2s[i]\n",
    "    res=iterate_optimizer(100)\n",
    "    x=set_vars( *res.x)\n",
    "    BJMMqs.append(res.fun)\n",
    "    optqs.append(binomH(k+ell,p) + p*log2(q-1) - ell*log2(q))\n",
    "    linalgqs.append(binomH(k+ell,p)-binomH(ell,p))"
   ]
  },
  {
   "cell_type": "code",
   "execution_count": null,
   "id": "e9cb485f-7f98-47a1-9948-783524cee493",
   "metadata": {},
   "outputs": [
    {
     "data": {
      "image/png": "[encoded data removed]",
      "text/plain": [
       "<Figure size 640x480 with 1 Axes>"
      ]
     },
     "metadata": {},
     "output_type": "display_data"
    }
   ],
   "source": [
    "plt.plot(qs[0:],BJMMqs[0:], label = \"BJMM\")\n",
    "plt.plot(qs[0:],optqs[0:], label = \"optimal\")\n",
    "plt.plot(qs[0:],linalgqs[0:],label = \"linalg\")\n",
    "plt.legend()\n",
    "plt.show()"
   ]
  },
  {
   "cell_type": "code",
   "execution_count": null,
   "id": "97fb9b53-886d-4431-a53d-fd0a3ca6e9fa",
   "metadata": {},
   "outputs": [],
   "source": []
  }
 ],
 "metadata": {
  "kernelspec": {
   "display_name": "Python 3 (ipykernel)",
   "language": "python",
   "name": "python3"
  },
  "language_info": {
   "codemirror_mode": {
    "name": "ipython",
    "version": 3
   },
   "file_extension": ".py",
   "mimetype": "text/x-python",
   "name": "python",
   "nbconvert_exporter": "python",
   "pygments_lexer": "ipython3",
   "version": "3.12.3"
  }
 },
 "nbformat": 4,
 "nbformat_minor": 5
}
